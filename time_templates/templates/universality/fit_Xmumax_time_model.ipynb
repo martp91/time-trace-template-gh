{
 "cells": [
  {
   "cell_type": "code",
   "execution_count": null,
   "id": "03ffce61",
   "metadata": {},
   "outputs": [],
   "source": [
    "import pandas as pd\n",
    "import numpy as np\n",
    "import matplotlib.pyplot as plt\n",
    "from collections import defaultdict\n",
    "from fit_lognormal_traces import fit_lognormal\n",
    "from lognormal_templates import lognormal_signal\n",
    "from names import DICT_COMP_COLORS, eMUON, eEM_HAD, eEM_MU, eEM_PURE, DICT_COMP_LABELS\n",
    "from time_templates.utilities.plot import plot_profile_1d, plot_hist\n",
    "from time_templates.utilities.fitting import plot_fit_curve\n",
    "from lognormal_templates import get_m_s_lognormal_comp, lognormal_signal, lognormal_pdf\n",
    "\n",
    "SAVE = False\n",
    "from merge_mean_df import merge_means\n",
    "from fit_lognormal_traces import get_trace_fit\n",
    "if SAVE:\n",
    "    plt.style.use('thesis')"
   ]
  },
  {
   "cell_type": "code",
   "execution_count": null,
   "id": "1cdb24be",
   "metadata": {},
   "outputs": [],
   "source": [
    "df_p_19 = pd.read_pickle(\"/home/mart/auger/data/time_templates/binned_df/Xmumax/binned_df_EPOS_LHC_proton_19_19.5_phased_traces_Xmumax.pl\")"
   ]
  },
  {
   "cell_type": "code",
   "execution_count": null,
   "id": "2fadf763",
   "metadata": {},
   "outputs": [],
   "source": [
    "df_p_19"
   ]
  }
 ],
 "metadata": {
  "hide_input": false,
  "kernelspec": {
   "display_name": "Python 3 (ipykernel)",
   "language": "python",
   "name": "python3"
  },
  "language_info": {
   "codemirror_mode": {
    "name": "ipython",
    "version": 3
   },
   "file_extension": ".py",
   "mimetype": "text/x-python",
   "name": "python",
   "nbconvert_exporter": "python",
   "pygments_lexer": "ipython3",
   "version": "3.9.7"
  },
  "latex_envs": {
   "LaTeX_envs_menu_present": true,
   "autoclose": false,
   "autocomplete": true,
   "bibliofile": "biblio.bib",
   "cite_by": "apalike",
   "current_citInitial": 1,
   "eqLabelWithNumbers": true,
   "eqNumInitial": 1,
   "hotkeys": {
    "equation": "Ctrl-E",
    "itemize": "Ctrl-I"
   },
   "labels_anchors": false,
   "latex_user_defs": false,
   "report_style_numbering": false,
   "user_envs_cfg": false
  },
  "toc": {
   "base_numbering": 1,
   "nav_menu": {},
   "number_sections": true,
   "sideBar": true,
   "skip_h1_title": false,
   "title_cell": "Table of Contents",
   "title_sidebar": "Contents",
   "toc_cell": false,
   "toc_position": {},
   "toc_section_display": true,
   "toc_window_display": false
  }
 },
 "nbformat": 4,
 "nbformat_minor": 5
}
