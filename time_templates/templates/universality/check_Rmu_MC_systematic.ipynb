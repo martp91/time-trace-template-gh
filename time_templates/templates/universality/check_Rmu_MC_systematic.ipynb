{
 "cells": [
  {
   "cell_type": "code",
   "execution_count": null,
   "id": "276beaf0",
   "metadata": {},
   "outputs": [],
   "source": [
    "import numpy as np\n",
    "from time_templates.datareader.get_data import fetch_MC_data_from_tree\n",
    "from time_templates.utilities.plot import plot_hist, plot_profile_1d\n",
    "from time_templates.utilities.misc import histedges_equalN\n",
    "from S1000_model import v_S1000_comp_model"
   ]
  },
  {
   "cell_type": "code",
   "execution_count": null,
   "id": "4963c691",
   "metadata": {},
   "outputs": [],
   "source": [
    "# df = fetch_MC_data_from_tree(primary='proton', energy='19_19.5', no_traces=True)\n",
    "df = fetch_MC_data_from_tree(primary='proton', energy='19_19.5', HIM='EPOSLHC', key='rcola_Offlinev3r3p4')\n",
    "df = df.query('SdCosTheta > 0.6')\n",
    "df = df.groupby('EventId').mean()"
   ]
  },
  {
   "cell_type": "code",
   "execution_count": null,
   "id": "31cd255d",
   "metadata": {},
   "outputs": [],
   "source": [
    "len(df)"
   ]
  },
  {
   "cell_type": "code",
   "execution_count": null,
   "id": "0c6dbec2",
   "metadata": {},
   "outputs": [],
   "source": [
    "plot_profile_1d(df['SdSecTheta'], df['Rmu'], bins=histedges_equalN(df['SdSecTheta'], 10))"
   ]
  },
  {
   "cell_type": "code",
   "execution_count": null,
   "id": "26ff8ae3",
   "metadata": {},
   "outputs": [],
   "source": [
    "df['Smu_1000_pred'] = v_S1000_comp_model(10**df['MClgE'], df['MCDXmax'], 1, 'muon')"
   ]
  },
  {
   "cell_type": "code",
   "execution_count": null,
   "id": "9fa4513d",
   "metadata": {},
   "outputs": [],
   "source": [
    "plot_hist(df.groupby('EventId')['Rmu'].mean(), bins=np.linspace(0.2, 1.8), histtype='step', fit_norm=True);"
   ]
  }
 ],
 "metadata": {
  "hide_input": false,
  "kernelspec": {
   "display_name": "Python 3 (ipykernel)",
   "language": "python",
   "name": "python3"
  },
  "language_info": {
   "codemirror_mode": {
    "name": "ipython",
    "version": 3
   },
   "file_extension": ".py",
   "mimetype": "text/x-python",
   "name": "python",
   "nbconvert_exporter": "python",
   "pygments_lexer": "ipython3",
   "version": "3.9.7"
  },
  "latex_envs": {
   "LaTeX_envs_menu_present": true,
   "autoclose": false,
   "autocomplete": true,
   "bibliofile": "biblio.bib",
   "cite_by": "apalike",
   "current_citInitial": 1,
   "eqLabelWithNumbers": true,
   "eqNumInitial": 1,
   "hotkeys": {
    "equation": "Ctrl-E",
    "itemize": "Ctrl-I"
   },
   "labels_anchors": false,
   "latex_user_defs": false,
   "report_style_numbering": false,
   "user_envs_cfg": false
  },
  "toc": {
   "base_numbering": 1,
   "nav_menu": {},
   "number_sections": true,
   "sideBar": true,
   "skip_h1_title": false,
   "title_cell": "Table of Contents",
   "title_sidebar": "Contents",
   "toc_cell": false,
   "toc_position": {},
   "toc_section_display": true,
   "toc_window_display": false
  }
 },
 "nbformat": 4,
 "nbformat_minor": 5
}
