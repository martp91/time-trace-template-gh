{
 "cells": [
  {
   "cell_type": "code",
   "execution_count": null,
   "id": "031a8463",
   "metadata": {},
   "outputs": [],
   "source": [
    "import pickle\n",
    "import pandas as pd\n",
    "import numpy as np\n",
    "import matplotlib.pyplot as plt\n",
    "\n",
    "from collections import defaultdict\n",
    "\n",
    "from iminuit import Minuit\n",
    "from iminuit.cost import LeastSquares\n",
    "from termcolor import colored\n",
    "from time_templates.signalmodel import signal_model\n",
    "from time_templates.utilities import atmosphere\n",
    "from time_templates.utilities.fitting import plot_fit_curve\n",
    "from time_templates.templates.start_time_deMauro import start_time_plane_front_DXmax, start_time_DXmax, catenary\n",
    "from time_templates.utilities.plot import plot_hist, plot_profile_1d\n",
    "from time_templates.utilities import geometry"
   ]
  },
  {
   "cell_type": "code",
   "execution_count": null,
   "id": "5099f16f",
   "metadata": {},
   "outputs": [],
   "source": [
    "from time_templates.datareader.get_data import get_MC_data_from_tree\n",
    "\n",
    "df = get_MC_data_from_tree(dense=False, energy='18.5_19', primary='proton', det='new', no_traces=False)\n"
   ]
  },
  {
   "cell_type": "code",
   "execution_count": null,
   "id": "7e02d5dd",
   "metadata": {},
   "outputs": [],
   "source": [
    "df['MCCosTheta_sq_bin'] = pd.cut(df['MCCosTheta']**2, np.linspace(0.25, 1, 5))\n",
    "df['MCDXstation_bin'] = pd.cut(df['MCDXstation'], np.arange(0, 1000, 25))\n",
    "df = df.set_index(['MCCosTheta_sq_bin', 'MCDXstation_bin', 'MCr_round', 'MCcospsi_round'])\n",
    "# sort index for speed\n",
    "df = df.reset_index().dropna().set_index(df.index.names).sort_index()\n"
   ]
  },
  {
   "cell_type": "code",
   "execution_count": null,
   "id": "fd09bd82",
   "metadata": {},
   "outputs": [],
   "source": [
    "diff = np.abs(df['MCPlaneTimeRes'] - df['PlaneTimeRes'])\n",
    "mean = np.mean(diff)\n",
    "std = np.std(diff)\n",
    "df['ptr_diff'] = np.abs(diff-mean)#/std\n",
    "print(df.shape)\n",
    "df_ = df.query('MCCosTheta > 0.5 & ptr_diff < 100')\n",
    "# t0_mean = df_.groupby(df.index.names).apply(lambda x: x['t0_deMauro'].mean())\n",
    "# df_['t0_deMauro_'] = df_['t0_deMauro']\n",
    "# df_['t0_deMauro'] = t0_mean\n",
    "# ptr_mean = df_.groupby(df.index.names).apply(lambda x: x['PlaneTimeRes'].mean())\n",
    "# df_['PlaneTimeRes_'] = df_['PlaneTimeRes']\n",
    "# df_['PlaneTimeRes'] = ptr_mean\n",
    "df_['MCPlaneTimeRes_'] = df_['MCPlaneTimeRes']\n",
    "df_['MCPlaneTimeRes_shift']  = df_.groupby(df.index.names).apply(lambda x: (x['MCPlaneTimeRes'] - x['PlaneTimeRes']).mean())\n",
    "df_['MCPlaneTimeRes'] = df_['MCPlaneTimeRes'] - df_['MCPlaneTimeRes_shift']\n",
    "print(df_.shape)"
   ]
  },
  {
   "cell_type": "code",
   "execution_count": null,
   "id": "54c3a1a2",
   "metadata": {},
   "outputs": [],
   "source": [
    "plot_profile_1d(df['MCSecTheta'], diff, bins=10);"
   ]
  },
  {
   "cell_type": "code",
   "execution_count": null,
   "id": "2ddf3f53",
   "metadata": {},
   "outputs": [],
   "source": [
    "plt.figure(figsize=(10, 10))\n",
    "axes = df[['MCCosTheta', 'MClgE', 'MCr', 'MCcospsi']].hist(histtype='step', density=True)\n",
    "axes = df_[['MCCosTheta', 'MClgE', 'MCr', 'MCcospsi']].hist(ax=axes, histtype='step', density=True)"
   ]
  },
  {
   "cell_type": "code",
   "execution_count": null,
   "id": "d786427a",
   "metadata": {},
   "outputs": [],
   "source": [
    "from time_templates.preprocessing.phase_traces_df import phase_traces_df\n",
    "df_copy = df_.loc[0.8, 200, 600, 1].copy()\n",
    "phased = phase_traces_df(df_copy, univ_comp=True, use_t0_model=True, useMC=True)\n",
    "#Use MC plane time res but then use t0 model as start time. Is that OK?"
   ]
  },
  {
   "cell_type": "code",
   "execution_count": null,
   "id": "0aba0243",
   "metadata": {},
   "outputs": [],
   "source": [
    "plt.figure(figsize=(15, 8))\n",
    "t = np.arange(0, 600*25/3, 25/3)\n",
    "for i, trace in enumerate(phased['wcd_em_trace']):\n",
    "    plt.plot(t, trace,\n",
    "             marker='', ls='-', color='b', alpha=0.1)\n",
    "plt.plot(t, phased['wcd_em_trace'].mean(), 'k-', lw=3)\n",
    "plt.plot(t, np.median(np.vstack(phased['wcd_em_trace'].values), axis=0), 'k--', lw=3)\n",
    "plt.xlim([0, 1000])\n",
    "# plt.legend()"
   ]
  },
  {
   "cell_type": "code",
   "execution_count": null,
   "id": "dd31822d",
   "metadata": {},
   "outputs": [],
   "source": [
    "from fit_lognormal_traces import get_trace_fit, fit_lognormal"
   ]
  },
  {
   "cell_type": "code",
   "execution_count": null,
   "id": "9360a721",
   "metadata": {},
   "outputs": [],
   "source": [
    "dfs = []\n",
    "import glob\n",
    "for fl in glob.glob('../../data/mean_df/mean*.pl'):\n",
    "    df = pd.read_pickle(fl)\n",
    "    df.index.rename([name + \"_idx\" for name in df.index.names], inplace=True)\n",
    "    dfs.append(df)\n",
    "\n",
    "dd = defaultdict(list)\n",
    "\n",
    "ct2_bins = dfs[0].index.get_level_values(level=0).unique()\n",
    "DX_bins = dfs[0].index.get_level_values(level=1).unique()\n",
    "rs = [0]\n",
    "for df in dfs:\n",
    "    rs_ = df.index.get_level_values(level=2).unique()\n",
    "    if len(rs_) > len(rs):\n",
    "        rs = rs_\n",
    "cps = df.index.get_level_values(level=3).unique()\n",
    "\n",
    "for ct2_bin in ct2_bins:\n",
    "    ct2 = ct2_bin.mid\n",
    "    print(\"at\", ct2)\n",
    "    for DX_bin in DX_bins:\n",
    "        DX = DX_bin.mid\n",
    "        for r in rs:\n",
    "            for cp in cps:\n",
    "                new_row = 0\n",
    "                n_total = 0\n",
    "                for df in dfs:\n",
    "                    try:\n",
    "                        row = df.loc[ct2, DX, r, cp]\n",
    "                        n = row['nstations']\n",
    "                        if n <= 0:\n",
    "                            continue\n",
    "                        new_row += row*n\n",
    "                        n_total += n\n",
    "                    except KeyError:\n",
    "                        continue\n",
    "                        \n",
    "                if n_total <= 0:\n",
    "                    continue\n",
    "                    \n",
    "                new_row /= n_total\n",
    "                    \n",
    "                for key, val in new_row.items():\n",
    "                    if key == \"nstations\":\n",
    "                        continue\n",
    "                    dd[key].append(val)\n",
    "                    \n",
    "                dd[\"nstations\"].append(n_total)\n",
    "                dd[\"MCCosTheta_sq_bin_idx\"].append(ct2_bin)\n",
    "                dd[\"MCDXstation_bin_idx\"].append(DX_bin)\n",
    "                dd[\"MCr_round_idx\"].append(r)\n",
    "                dd[\"MCcospsi_round_idx\"].append(cp)\n",
    "                \n",
    "                \n",
    "# for idx, row in tqdm.tqdm(dfs[0].iterrows()):\n",
    "#     n0 = row[\"nstations\"]\n",
    "#     n_total = n0\n",
    "\n",
    "#     new_row = row.copy() * n0\n",
    "\n",
    "#     for df in dfs[1:]:\n",
    "#         row = df.loc[idx]\n",
    "#         n = row[\"nstations\"]\n",
    "#         new_row += row * n\n",
    "#         n_total += n\n",
    "\n",
    "#     if n_total > 0:\n",
    "#         new_row = new_row / n_total\n",
    "\n",
    "#     for key, val in new_row.items():\n",
    "#         if key == \"nstations\":\n",
    "#             continue\n",
    "#         dd[key].append(val)\n",
    "\n",
    "#     dd[\"nstations\"].append(n_total)\n",
    "#     dd[\"MCCosTheta_sq_bin_idx\"].append(idx[0])\n",
    "#     dd[\"MCDXstation_bin_idx\"].append(idx[0])\n",
    "#     dd[\"MCr_round_idx\"].append(idx[0])\n",
    "#     dd[\"MCcospsi_round_idx\"].append(idx[0])\n"
   ]
  },
  {
   "cell_type": "code",
   "execution_count": null,
   "id": "480548fd",
   "metadata": {},
   "outputs": [],
   "source": [
    "df_test = pd.DataFrame(dd).set_index(dfs[0].index.names)"
   ]
  },
  {
   "cell_type": "code",
   "execution_count": null,
   "id": "417acd69",
   "metadata": {},
   "outputs": [],
   "source": [
    "df_test.loc[0.9, 200, 1000, 1]"
   ]
  },
  {
   "cell_type": "code",
   "execution_count": null,
   "id": "cb6e06f9",
   "metadata": {},
   "outputs": [],
   "source": [
    "\n",
    "ct2 = 0.8\n",
    "DX = 200\n",
    "r = 1400\n",
    "cp = -1\n",
    "\n",
    "plt.plot(df_test.loc[ct2, DX, r, cp]['wcd_em_trace_mean'], 'k-', lw=2)\n",
    "plt.plot(dfs[0].loc[ct2, DX, r, cp]['wcd_em_trace_mean'])\n",
    "plt.plot(dfs[1].loc[ct2, DX, r, cp]['wcd_em_trace_mean'])\n",
    "plt.plot(dfs[2].loc[ct2, DX, r, cp]['wcd_em_trace_mean'])\n",
    "print(dfs[0]['MClgE'].mean())\n",
    "print(dfs[1]['MClgE'].mean())\n",
    "print(dfs[2]['MClgE'].mean())\n",
    "plt.xlim([0, 300])\n",
    "plt.ylim([0, 0.002])"
   ]
  },
  {
   "cell_type": "code",
   "execution_count": null,
   "id": "27304440",
   "metadata": {},
   "outputs": [],
   "source": []
  },
  {
   "cell_type": "code",
   "execution_count": null,
   "id": "eff55ca6",
   "metadata": {},
   "outputs": [],
   "source": [
    "df = pd.read_pickle('../../data/mean_df/mean_df_EPOS_LHC_proton_19_19.5.pl')\n",
    "# df = df.droplevel(0)\n",
    "df.index.rename([name+\"_idx\" for name in df.index.names], inplace=True)"
   ]
  },
  {
   "cell_type": "code",
   "execution_count": null,
   "id": "ab912427",
   "metadata": {},
   "outputs": [],
   "source": []
  },
  {
   "cell_type": "code",
   "execution_count": null,
   "id": "9e3b0918",
   "metadata": {},
   "outputs": [],
   "source": [
    "f, ax = plt.subplots(1, figsize=(10, 5))\n",
    "\n",
    "m = get_trace_fit(df.loc[0.5, 400, 500, 1], ax=ax, fit_t0=False, cdf_min=0.0, cdf_max=0.95)\n",
    "ax.set_xscale('log')\n",
    "# ax.set_yscale('log')\n",
    "# ax.set_ylim([1e-5, 1e-2])\n",
    "m"
   ]
  },
  {
   "cell_type": "code",
   "execution_count": null,
   "id": "dd3d365a",
   "metadata": {},
   "outputs": [],
   "source": [
    "cos_theta_sq_bins = sorted(df.index.get_level_values(level=0).unique())\n",
    "DX_bins = sorted(df.index.get_level_values(level=1).unique())\n",
    "rs = sorted(df.index.get_level_values(level=2).unique())\n",
    "cos_psis = sorted(df.index.get_level_values(level=3).unique())[::-1]\n",
    "rs = [500, 800, 1200, 1600]\n",
    "ct2 = 0.7\n",
    "\n",
    "f, axes = plt.subplots(4, 4, figsize=(15, 15), sharey=True, sharex=True)\n",
    "\n",
    "for i, DX_edges in enumerate(DX_bins[1::1]):\n",
    "    DX = DX_edges.mid\n",
    "\n",
    "    for j, r in enumerate(rs):\n",
    "        try:\n",
    "            ax = axes[i, j]\n",
    "            ax.set_title(f'DX = {DX} r = {r}')\n",
    "        except IndexError:\n",
    "            pass\n",
    "\n",
    "        for cp in cos_psis:\n",
    "            if cp != 1:\n",
    "                ax = None\n",
    "            try:\n",
    "                m = get_trace_fit(df.loc[ct2, DX, r, cp], ax=ax)\n",
    "                pfit = m.values\n",
    "            except:\n",
    "                pfit = [np.nan, np.nan]\n",
    "                \n",
    "for ax in axes.flatten():\n",
    "    ax.set_xscale('log')\n",
    "    ax.set_yscale('log')\n",
    "    ax.set_ylim([1e-5, 1e-2])\n",
    "    ax.set_xlim([10, 2e4])\n",
    "plt.tight_layout()"
   ]
  },
  {
   "cell_type": "code",
   "execution_count": null,
   "id": "484da4b4",
   "metadata": {},
   "outputs": [],
   "source": [
    "DX = np.linspace(0, 600)\n",
    "f, ax = plt.subplots(1)\n",
    "theta = np.deg2rad(30)\n",
    "for r, c in zip([500, 1000, 1500], ['r', 'g', 'b']):\n",
    "    ax.plot(DX, (start_time_plane_front_DXmax(r, DX, theta, 19)-\n",
    "            start_time_plane_front_DXmax(r, DX+50, theta, 19))/25, color=c)\n",
    "    \n",
    "ax.set_ylabel('t(DX) - t(DX+25) [25 ns]')\n",
    "ax.set_xlabel('DX')"
   ]
  },
  {
   "cell_type": "code",
   "execution_count": null,
   "id": "ca0c2ead",
   "metadata": {},
   "outputs": [],
   "source": [
    "from fit_lognormal_traces import lognormal_pdf\n",
    "n = 200\n",
    "t = np.arange(0, n*25/3, 25/3)\n",
    "mean = np.zeros(n)\n",
    "N = 100\n",
    "out = np.zeros((N, n))\n",
    "plt.figure(figsize=(15, 7))\n",
    "m = 5.5\n",
    "s = 0.6\n",
    "for i in range(N):\n",
    "    out[i] = lognormal_pdf(t+np.random.normal(0, 50), m, s)\n",
    "    \n",
    "plt.plot(np.mean(out, axis=0), 'k-', lw=2)\n",
    "# median = np.median(out, axis=0)\n",
    "# median /= median.sum()*25/3\n",
    "mean = np.mean(out, axis=0)\n",
    "mean /= mean.sum()*25/3\n",
    "# plt.plot(median, 'k--', lw=2)\n",
    "plt.plot(mean, 'k-', lw=2)\n",
    "ln = lognormal_pdf(t, m, s)\n",
    "ln /= ln.sum()*25/3\n",
    "plt.plot(ln, 'r-', lw=2)\n"
   ]
  },
  {
   "cell_type": "code",
   "execution_count": null,
   "id": "8b6500a0",
   "metadata": {},
   "outputs": [],
   "source": [
    "df['t0_deMauro_var']"
   ]
  }
 ],
 "metadata": {
  "hide_input": false,
  "kernelspec": {
   "display_name": "Python 3 (ipykernel)",
   "language": "python",
   "name": "python3"
  },
  "language_info": {
   "codemirror_mode": {
    "name": "ipython",
    "version": 3
   },
   "file_extension": ".py",
   "mimetype": "text/x-python",
   "name": "python",
   "nbconvert_exporter": "python",
   "pygments_lexer": "ipython3",
   "version": "3.9.7"
  },
  "latex_envs": {
   "LaTeX_envs_menu_present": true,
   "autoclose": false,
   "autocomplete": true,
   "bibliofile": "biblio.bib",
   "cite_by": "apalike",
   "current_citInitial": 1,
   "eqLabelWithNumbers": true,
   "eqNumInitial": 1,
   "hotkeys": {
    "equation": "Ctrl-E",
    "itemize": "Ctrl-I"
   },
   "labels_anchors": false,
   "latex_user_defs": false,
   "report_style_numbering": false,
   "user_envs_cfg": false
  },
  "toc": {
   "base_numbering": 1,
   "nav_menu": {},
   "number_sections": true,
   "sideBar": true,
   "skip_h1_title": false,
   "title_cell": "Table of Contents",
   "title_sidebar": "Contents",
   "toc_cell": false,
   "toc_position": {},
   "toc_section_display": true,
   "toc_window_display": false
  }
 },
 "nbformat": 4,
 "nbformat_minor": 5
}
