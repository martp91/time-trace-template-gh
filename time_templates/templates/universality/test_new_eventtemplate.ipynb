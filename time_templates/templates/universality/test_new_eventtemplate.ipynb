{
 "cells": [
  {
   "cell_type": "code",
   "execution_count": null,
   "id": "23cab048",
   "metadata": {},
   "outputs": [],
   "source": [
    "from time_templates.datareader.get_data import fetch_MC_data_from_tree, get_event_from_df\n",
    "from time_templates.preprocessing.apply_cuts_df import apply_cuts_df\n",
    "from time_templates.templates.event_templates import EventTemplate\n",
    "from time_templates.templates.trace_templates import TraceTimeTemplate\n",
    "import numpy as np\n",
    "import matplotlib.pyplot as plt\n",
    "from time_templates.utilities.plot import plot_profile_1d\n",
    "from time_templates.misc.energy import SdlgE_resolution"
   ]
  },
  {
   "cell_type": "code",
   "execution_count": null,
   "id": "3211a8e4",
   "metadata": {},
   "outputs": [],
   "source": [
    "df = fetch_MC_data_from_tree(primary='proton', energy='19_19.5', det='new_UUB_SSD_rcola', do_Rc_fit=False, cuts={'SdCosTheta': (0.6, 1.0), 'SdlgE': (19, 20.2)})\n",
    "# df = df.query('SdCosTheta > 0.6')"
   ]
  },
  {
   "cell_type": "code",
   "execution_count": null,
   "id": "405c0d51",
   "metadata": {},
   "outputs": [],
   "source": [
    "reg_Rmu = 1/0.4**2\n",
    "reg_lgE = 1#0.25\n",
    "reg_factor = 10/0.1**2\n",
    "RMIN = 450\n",
    "RMAX = 2500\n",
    "SMIN = 5\n",
    "\n",
    "df_ = df.query(\n",
    "    f\"Sdr > {RMIN} & Sdr < {RMAX} & LowGainSat == 0 & WCDTotalSignal > {SMIN}\"\n",
    ")\n",
    "rmin = df_.groupby(\"EventId\")[\"Sdr\"].min()\n",
    "nstations = df_.groupby(\"EventId\")[\"Sdr\"].count()\n",
    "eventids = rmin.index[(rmin < 1000) & (nstations > 2)]\n",
    "print(len(eventids))\n",
    "df = df.loc[eventids]"
   ]
  },
  {
   "cell_type": "code",
   "execution_count": null,
   "id": "e6473aae",
   "metadata": {},
   "outputs": [],
   "source": [
    "event = get_event_from_df(df, eventid=None, MC=False, verbose=False)\n",
    "print(event)\n",
    "print(event['MCXmax'])\n",
    "print(event['MClgE'])\n",
    "print(event['Rmu'][0])\n",
    "ET = EventTemplate(event, verbose=False, station_cuts={'r': [RMIN, RMAX]}, do_start_time_fit=False)\n",
    "\n",
    "_reg_lgE = reg_lgE/SdlgE_resolution(ET.lgE)**2"
   ]
  },
  {
   "cell_type": "code",
   "execution_count": null,
   "id": "6df7ac36",
   "metadata": {},
   "outputs": [],
   "source": [
    "ET.fit_start_times(plot=True)"
   ]
  },
  {
   "cell_type": "code",
   "execution_count": null,
   "id": "6f04d251",
   "metadata": {},
   "outputs": [],
   "source": [
    "m = ET.fit_total_signals(plot=True, reg_lgE=_reg_lgE, reg_Rmu=0)\n",
    "m"
   ]
  },
  {
   "cell_type": "code",
   "execution_count": null,
   "id": "9de3cf2a",
   "metadata": {},
   "outputs": [],
   "source": [
    "ET.station_cuts['Stotal_fit'] = (SMIN, 2000)\n",
    "ET.setup_all(ET.Rmu_fit, ET.lgE_fit, ET.Xmax, 0)"
   ]
  },
  {
   "cell_type": "code",
   "execution_count": null,
   "id": "8dc9b0ea",
   "metadata": {},
   "outputs": [],
   "source": [
    "ET.reset_fit()\n",
    "m = ET.fit(Rmu_0=ET.Rmu_fit, lgE_0=ET.lgE_fit, fix_Rmu=True, fix_lgE=True, fix_Xmax=True, fix_Xmumax=True, fix_t0s=False,fix_factorSmu=True, fix_factorSem=True,\n",
    "           reg_Rmu=reg_Rmu, reg_lgE=_reg_lgE, reg_factorSmu=reg_factor, reg_factorSem=reg_factor, no_scale=True)"
   ]
  },
  {
   "cell_type": "code",
   "execution_count": null,
   "id": "324f54ce",
   "metadata": {},
   "outputs": [],
   "source": [
    "#could set reg to uncertainty from total signal fit\n",
    "m = ET.fit(Rmu_0=ET.Rmu_fit, lgE_0=ET.lgE_fit, fix_Rmu=False, fix_lgE=False, fix_Xmax=False, fix_Xmumax=True, fix_t0s=True, fix_factorSmu=True, fix_factorSem=True,\n",
    "           reg_Rmu=reg_Rmu, reg_lgE=_reg_lgE, reg_factorSmu=reg_factor, reg_factorSem=reg_factor, no_scale=True)\n",
    "m"
   ]
  },
  {
   "cell_type": "code",
   "execution_count": null,
   "id": "2c75e6c4",
   "metadata": {},
   "outputs": [],
   "source": [
    "ET.setup_scale_mask(tq_cut=1, neff_cut=1)"
   ]
  },
  {
   "cell_type": "code",
   "execution_count": null,
   "id": "46e0db22",
   "metadata": {},
   "outputs": [],
   "source": [
    "m = ET.fit(Rmu_0=ET.Rmu_fit, lgE_0=ET.lgE_0, fix_Rmu=False, fix_lgE=False, fix_Xmax=False, fix_Xmumax=True, fix_t0s=True, fix_factorSmu=True, fix_factorSem=True,\n",
    "           reg_Rmu=reg_Rmu, reg_lgE=_reg_lgE, reg_factorSmu=reg_factor, reg_factorSem=reg_factor, no_scale=False)\n",
    "print(ET.ndata, ET.ndof)\n",
    "m"
   ]
  },
  {
   "cell_type": "code",
   "execution_count": null,
   "id": "14858529",
   "metadata": {},
   "outputs": [],
   "source": [
    "f, (ax1, ax2) = plt.subplots(2, 1, figsize=(15, 8), sharex=True)\n",
    "i = 0\n",
    "t = ET.ts[i]\n",
    "ttt = ET.TTTs[i]\n",
    "scale = ET.scales[i]\n",
    "data = ET.data[i]\n",
    "mu = ET.expected_traces[i]\n",
    "ax1.errorbar(t, data, yerr=np.sqrt(data))\n",
    "ax1.plot(t, mu)\n",
    "ax2.errorbar(t, data*scale, yerr=np.sqrt(mu*scale))\n",
    "ax2.plot(t, mu*scale)\n",
    "ax2.set_xlim([0, 1500])"
   ]
  },
  {
   "cell_type": "code",
   "execution_count": null,
   "id": "723d4a70",
   "metadata": {},
   "outputs": [],
   "source": [
    "#TODO: check scale, because something is wrong\n",
    "plt.figure(figsize=(15, 5))\n",
    "ttt.sigma_bl = 0\n",
    "Smu = 1\n",
    "Sem = 0\n",
    "ttt.correct_total_signal_uncertainty = True\n",
    "# plt.plot(t, ttt.get_wcd_total_trace(t, Smu, Sem, 0, 0))\n",
    "# plt.plot(t, ttt.get_variance_wcd_total(t, Smu, Sem, 0, 0))\n",
    "plt.plot(t, np.maximum(np.minimum(ttt.get_wcd_scale(t, Smu, Sem, 0, 0), 100), 0.5))\n",
    "\n",
    "# plt.yscale('log')\n",
    "plt.xlim([200, 1000])"
   ]
  },
  {
   "cell_type": "code",
   "execution_count": null,
   "id": "ffb04d84",
   "metadata": {},
   "outputs": [],
   "source": [
    "axes = ET.plot_traces(plotMC=True);\n",
    "for ax in axes:\n",
    "    ax.set_xlim([0, 2000])"
   ]
  },
  {
   "cell_type": "code",
   "execution_count": null,
   "id": "aa25b7d6",
   "metadata": {},
   "outputs": [],
   "source": [
    "m.draw_profile(\"DeltaXmumaxXmax\", bound=[0, 300]);"
   ]
  },
  {
   "cell_type": "code",
   "execution_count": null,
   "id": "7d2f217f",
   "metadata": {},
   "outputs": [],
   "source": [
    "from time_templates.utilities.traces import make_new_bins_by_cutoff, rebin"
   ]
  },
  {
   "cell_type": "code",
   "execution_count": null,
   "id": "d0d0e97a",
   "metadata": {},
   "outputs": [],
   "source": [
    "from numba import njit\n",
    "@njit(fastmath=True)\n",
    "def rebin(trace, t, new_bins):\n",
    "    nbins = len(new_bins)-1\n",
    "    out = np.zeros(nbins)\n",
    "    for i in range(nbins):\n",
    "        ileft = new_bins[i]\n",
    "        iright = new_bins[i+1]\n",
    "        dt = iright - ileft\n",
    "        out[i] = np.sum(trace[ileft:iright])/dt\n",
    "    return out"
   ]
  },
  {
   "cell_type": "code",
   "execution_count": null,
   "id": "4a0166e6",
   "metadata": {},
   "outputs": [],
   "source": [
    "i = 5\n",
    "trace = event.stations[i].wcd_trace.get_total_trace()\n",
    "t = event.stations[i].wcd_trace.t\n",
    "ttt = ET.TTTs[i]\n",
    "ttt.correct_total_signal_uncertainty = True\n",
    "Smu = ET.Smu_LDF[i]\n",
    "Sem = ET.Sem_pure_LDF[i]\n",
    "Semmu = ET.Sem_mu_LDF[i]\n",
    "Semhad = ET.Sem_had_LDF[i]\n",
    "neff = ttt.get_wcd_neff_particles(t, Smu, Sem, Semmu, Semhad)\n",
    "plt.plot(t, trace)\n",
    "# plt.plot(t, neff)\n",
    "neff_rebinned, new_bins = make_new_bins_by_cutoff(neff, len(neff), 20)\n",
    "len(new_trace), len(new_bins)"
   ]
  },
  {
   "cell_type": "code",
   "execution_count": null,
   "id": "b34c6af4",
   "metadata": {},
   "outputs": [],
   "source": [
    "new_trace = rebin(trace, t, new_bins)\n",
    "neff_rebinned = rebin(neff, t, new_bins)\n",
    "new_bins = np.array(new_bins)\n",
    "\n",
    "new_t = t[new_bins[:-1]]\n",
    "dt = t[new_bins[1:]] - t[new_bins[:-1]]\n",
    "\n",
    "f, ax = plt.subplots(1, figsize=(14, 6))\n",
    "ax.bar(new_t, new_trace, width=dt, ec='b', color='none', align='edge')\n",
    "\n",
    "# plt.plot(t, trace)\n",
    "# plt.yscale('log')"
   ]
  },
  {
   "cell_type": "code",
   "execution_count": null,
   "id": "e5f947b7",
   "metadata": {},
   "outputs": [],
   "source": [
    "i = 3\n",
    "t = ET.ts[i]\n",
    "plt.plot(t, ET.data[i])\n",
    "Smu = ET.Smu_LDF[i]\n",
    "Sem = ET.Sem_pure_LDF[i]\n",
    "Semmu = ET.Sem_mu_LDF[i]\n",
    "Semhad = ET.Sem_had_LDF[i]\n",
    "print(Smu, Sem, Semmu, Semhad)\n",
    "plt.plot(t, ET.TTTs[i].get_wcd_neff_particles(t, Smu, Sem, Semmu, Semhad)/10)"
   ]
  },
  {
   "cell_type": "code",
   "execution_count": null,
   "id": "b6616002",
   "metadata": {},
   "outputs": [],
   "source": [
    "f, ax = plt.subplots(1, figsize=(15, 6))\n",
    "ET.event.stations[1].plot_trace(plotTT=True, ax=ax);\n",
    "ax.set_xlim([50, 500])"
   ]
  },
  {
   "cell_type": "code",
   "execution_count": null,
   "id": "731035f1",
   "metadata": {},
   "outputs": [],
   "source": []
  }
 ],
 "metadata": {
  "hide_input": false,
  "kernelspec": {
   "display_name": "Python 3 (ipykernel)",
   "language": "python",
   "name": "python3"
  },
  "language_info": {
   "codemirror_mode": {
    "name": "ipython",
    "version": 3
   },
   "file_extension": ".py",
   "mimetype": "text/x-python",
   "name": "python",
   "nbconvert_exporter": "python",
   "pygments_lexer": "ipython3",
   "version": "3.9.7"
  },
  "latex_envs": {
   "LaTeX_envs_menu_present": true,
   "autoclose": false,
   "autocomplete": true,
   "bibliofile": "biblio.bib",
   "cite_by": "apalike",
   "current_citInitial": 1,
   "eqLabelWithNumbers": true,
   "eqNumInitial": 1,
   "hotkeys": {
    "equation": "Ctrl-E",
    "itemize": "Ctrl-I"
   },
   "labels_anchors": false,
   "latex_user_defs": false,
   "report_style_numbering": false,
   "user_envs_cfg": false
  },
  "toc": {
   "base_numbering": 1,
   "nav_menu": {},
   "number_sections": true,
   "sideBar": true,
   "skip_h1_title": false,
   "title_cell": "Table of Contents",
   "title_sidebar": "Contents",
   "toc_cell": false,
   "toc_position": {},
   "toc_section_display": true,
   "toc_window_display": false
  }
 },
 "nbformat": 4,
 "nbformat_minor": 5
}
