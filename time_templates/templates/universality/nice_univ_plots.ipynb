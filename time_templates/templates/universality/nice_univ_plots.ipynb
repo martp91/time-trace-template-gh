{
 "cells": [
  {
   "cell_type": "code",
   "execution_count": null,
   "id": "d98bf0cd",
   "metadata": {},
   "outputs": [],
   "source": [
    "import pandas as pd\n",
    "import matplotlib.pyplot as plt\n",
    "import numpy as np\n",
    "from time_templates.templates.universality.names import DICT_COMP_SIGNALKEY, DICT_COMP_LABELS\n",
    "from time_templates.templates.universality.S1000_model import S1000_comp_model\n",
    "from time_templates.utilities.plot import plot_profile_1d, plot_hist\n",
    "# plt.style.use('science')\n",
    "gcm2 = \"\\\\mathrm{g/cm^2}\"\n",
    "label_DX = f\"$\\Delta X \\, [{gcm2}]$\""
   ]
  },
  {
   "cell_type": "code",
   "execution_count": null,
   "id": "67c9b929",
   "metadata": {},
   "outputs": [],
   "source": [
    "df = pd.read_pickle('df_1000.pl')\n",
    "df = df.query('MCCosTheta > 0.6')"
   ]
  },
  {
   "cell_type": "code",
   "execution_count": null,
   "id": "78a4a403",
   "metadata": {},
   "outputs": [],
   "source": [
    "lgE = 19.9\n",
    "df_ = df.query(f'MClgE > {lgE} & MClgE < {lgE+0.1}')"
   ]
  },
  {
   "cell_type": "code",
   "execution_count": null,
   "id": "66d874c7",
   "metadata": {},
   "outputs": [],
   "source": [
    "f, axes = plt.subplots(2, 2, figsize=(16, 16))\n",
    "axes = axes.flatten()\n",
    "df_p = df_.query(\"primary == 'proton'\")\n",
    "df_Fe = df_.query(\"primary == 'iron'\")\n",
    "\n",
    "DXspace = np.linspace(0, 1200)\n",
    "bins = np.linspace(0, df_p['MCDXstation'].max(), 10)\n",
    "for ax, (comp, signalkey) in zip(axes, DICT_COMP_SIGNALKEY.items()):\n",
    "\n",
    "    ax.set_title(DICT_COMP_LABELS[comp])\n",
    "    ax.errorbar(df_p['MCDXstation'], df_p[signalkey], df_p[signalkey+\"_err\"], color='b', ls='', marker='.', alpha=0.5)\n",
    "    ax.errorbar(df_Fe['MCDXstation'], df_Fe[signalkey], df_Fe[signalkey+\"_err\"], color='r', ls='', marker='.', alpha=0.5)\n",
    "#     plot_profile_1d(df_p['MCDXstation'], df_p[signalkey], bins=bins, marker='o', color='b', ax=ax)\n",
    "#     plot_profile_1d(df_Fe['MCDXstation'], df_Fe[signalkey], bins=bins, marker='o', color='r', ax=ax)\n",
    "\n",
    "    ax.plot(DXspace, S1000_comp_model(10**(lgE+0.05), DXspace, 1, comp), 'k-', lw=2)\n",
    "    ax.set_ylabel('Signal [VEM]')\n",
    "    ax.set_xlabel(label_DX)"
   ]
  },
  {
   "cell_type": "code",
   "execution_count": null,
   "id": "fec1f721",
   "metadata": {},
   "outputs": [],
   "source": [
    "plot_hist((df_p['WCDTotalSignal']-df_p['WCDTotalSignal_pred'])/df_p['WCDTotalSignal_pred'], bins=np.linspace(-0.2, 0.2, 50), histtype='step', fit_norm=True);"
   ]
  },
  {
   "cell_type": "code",
   "execution_count": null,
   "id": "298fb62d",
   "metadata": {},
   "outputs": [],
   "source": [
    "df_p = df.query(\"primary == 'proton'\")\n",
    "df_Fe = df.query(\"primary == 'iron'\")\n",
    "f, axes = plt.subplots(2, 2, figsize=(16, 16))\n",
    "axes = axes.flatten()\n",
    "for ax, (comp, signalkey) in zip(axes, DICT_COMP_SIGNALKEY.items()):\n",
    "\n",
    "    plot_profile_1d(df_p['MClgE'], df_p[signalkey]/df_p[signalkey+\"_pred\"], bins=10, ax=ax);"
   ]
  },
  {
   "cell_type": "code",
   "execution_count": null,
   "id": "f0fee7bb",
   "metadata": {},
   "outputs": [],
   "source": [
    "#There is an aditional energy dependence why?"
   ]
  },
  {
   "cell_type": "code",
   "execution_count": null,
   "id": "f9c11efd",
   "metadata": {},
   "outputs": [],
   "source": [
    "f, ax = plt.subplots(1)\n",
    "bins = np.linspace(0.5, 1, 8)\n",
    "plot_profile_1d(df_p['MCCosTheta'], (df_p['WCDTotalSignal']-df_p['WCDTotalSignal_pred'])/df_p['WCDTotalSignal_pred'], bins=bins, ax=ax, stat='median', remove_outliers=(-1, 1));\n",
    "ax.axhline(0, ls='--', color='k')\n",
    "ax.set_ylim([-0.1, 0.1])"
   ]
  },
  {
   "cell_type": "code",
   "execution_count": null,
   "id": "6b1b7c94",
   "metadata": {},
   "outputs": [],
   "source": []
  }
 ],
 "metadata": {
  "hide_input": false,
  "kernelspec": {
   "display_name": "Python 3 (ipykernel)",
   "language": "python",
   "name": "python3"
  },
  "language_info": {
   "codemirror_mode": {
    "name": "ipython",
    "version": 3
   },
   "file_extension": ".py",
   "mimetype": "text/x-python",
   "name": "python",
   "nbconvert_exporter": "python",
   "pygments_lexer": "ipython3",
   "version": "3.9.7"
  },
  "latex_envs": {
   "LaTeX_envs_menu_present": true,
   "autoclose": false,
   "autocomplete": true,
   "bibliofile": "biblio.bib",
   "cite_by": "apalike",
   "current_citInitial": 1,
   "eqLabelWithNumbers": true,
   "eqNumInitial": 1,
   "hotkeys": {
    "equation": "Ctrl-E",
    "itemize": "Ctrl-I"
   },
   "labels_anchors": false,
   "latex_user_defs": false,
   "report_style_numbering": false,
   "user_envs_cfg": false
  },
  "toc": {
   "base_numbering": 1,
   "nav_menu": {},
   "number_sections": true,
   "sideBar": true,
   "skip_h1_title": false,
   "title_cell": "Table of Contents",
   "title_sidebar": "Contents",
   "toc_cell": false,
   "toc_position": {},
   "toc_section_display": true,
   "toc_window_display": false
  }
 },
 "nbformat": 4,
 "nbformat_minor": 5
}
