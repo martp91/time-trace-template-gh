{
 "cells": [
  {
   "cell_type": "code",
   "execution_count": null,
   "id": "b9d668a6",
   "metadata": {},
   "outputs": [],
   "source": [
    "import os\n",
    "import argparse\n",
    "import pickle\n",
    "import numpy as np\n",
    "import pandas as pd\n",
    "import matplotlib.pyplot as plt\n",
    "\n",
    "from sklearn.pipeline import Pipeline\n",
    "from sklearn.preprocessing import (\n",
    "    PolynomialFeatures,\n",
    "    StandardScaler,\n",
    ")\n",
    "from sklearn.model_selection import train_test_split, GridSearchCV\n",
    "from sklearn.compose import TransformedTargetRegressor\n",
    "from sklearn.linear_model import Ridge\n",
    "from sklearn.metrics import mean_absolute_error, mean_squared_error\n",
    "from sklearn.base import BaseEstimator, TransformerMixin\n",
    "\n",
    "from time_templates.utilities.plot import plot_hist, plot_profile_1d\n",
    "from time_templates.datareader.get_data import fetch_MC_data_from_tree\n",
    "\n",
    "from time_templates.templates.universality.S1000_model import (\n",
    "    S1000_comp_model,\n",
    "    set_Rmu_df,\n",
    ")\n",
    "from time_templates.templates.universality.names import DICT_COMP_SIGNALKEY\n",
    "from time_templates.templates.universality.rho_model import XLABELS, RHOPIPEFILE\n",
    "XLABELS"
   ]
  },
  {
   "cell_type": "code",
   "execution_count": null,
   "id": "8cf6bb83",
   "metadata": {},
   "outputs": [],
   "source": [
    "df = pd.read_pickle('df_rho.pl')"
   ]
  },
  {
   "cell_type": "code",
   "execution_count": null,
   "id": "3d46363d",
   "metadata": {},
   "outputs": [],
   "source": [
    "class CustomTransformer(BaseEstimator, TransformerMixin):\n",
    "    def __init__(self):\n",
    "        pass\n",
    "    \n",
    "    def fit(self, X, y=None):\n",
    "        return self\n",
    "    \n",
    "    def transform(self, X, y=None):\n",
    "        X_ = X.copy()\n",
    "        "
   ]
  },
  {
   "cell_type": "code",
   "execution_count": null,
   "id": "cf00fc46",
   "metadata": {},
   "outputs": [],
   "source": [
    "Xlabels = XLABELS\n",
    "ylabel = DICT_COMP_SIGNALKEY['muon']\n",
    "\n",
    "X = df[Xlabels].values\n",
    "y = df[ylabel].values\n",
    "\n",
    "X_train, X_test, y_train, y_test = train_test_split(X, y, test_size=0.2)\n",
    "regr = Ridge(alpha=1)\n",
    "\n",
    "pipe = Pipeline(\n",
    "    [\n",
    "        (\"scale\", StandardScaler()),\n",
    "        (\"poly\", PolynomialFeatures(4, include_bias=False)),\n",
    "        (\n",
    "            \"regr\",\n",
    "            TransformedTargetRegressor(regr, func=np.log1p, inverse_func=np.expm1),\n",
    "        ),\n",
    "    ]\n",
    ")\n",
    "param_grid = {\n",
    "    \"poly__degree\": [3],\n",
    "    \"regr__regressor__alpha\": [0.01],\n",
    "}\n",
    "grid = GridSearchCV(pipe, param_grid, n_jobs=3, cv=3, verbose=10)\n",
    "grid.fit(X_train, y_train)\n",
    "print(\"Best parameters via grid search\", grid.best_params_)\n",
    "\n"
   ]
  },
  {
   "cell_type": "code",
   "execution_count": null,
   "id": "6220ac07",
   "metadata": {},
   "outputs": [],
   "source": []
  }
 ],
 "metadata": {
  "hide_input": false,
  "kernelspec": {
   "display_name": "Python 3 (ipykernel)",
   "language": "python",
   "name": "python3"
  },
  "language_info": {
   "codemirror_mode": {
    "name": "ipython",
    "version": 3
   },
   "file_extension": ".py",
   "mimetype": "text/x-python",
   "name": "python",
   "nbconvert_exporter": "python",
   "pygments_lexer": "ipython3",
   "version": "3.9.7"
  },
  "latex_envs": {
   "LaTeX_envs_menu_present": true,
   "autoclose": false,
   "autocomplete": true,
   "bibliofile": "biblio.bib",
   "cite_by": "apalike",
   "current_citInitial": 1,
   "eqLabelWithNumbers": true,
   "eqNumInitial": 1,
   "hotkeys": {
    "equation": "Ctrl-E",
    "itemize": "Ctrl-I"
   },
   "labels_anchors": false,
   "latex_user_defs": false,
   "report_style_numbering": false,
   "user_envs_cfg": false
  },
  "toc": {
   "base_numbering": 1,
   "nav_menu": {},
   "number_sections": true,
   "sideBar": true,
   "skip_h1_title": false,
   "title_cell": "Table of Contents",
   "title_sidebar": "Contents",
   "toc_cell": false,
   "toc_position": {},
   "toc_section_display": true,
   "toc_window_display": false
  }
 },
 "nbformat": 4,
 "nbformat_minor": 5
}
