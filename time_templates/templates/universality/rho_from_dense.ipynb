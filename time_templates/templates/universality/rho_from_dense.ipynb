{
 "cells": [
  {
   "cell_type": "code",
   "execution_count": null,
   "id": "d71de8f7",
   "metadata": {},
   "outputs": [],
   "source": [
    "import pandas as pd\n",
    "import matplotlib.pyplot as plt\n",
    "import numpy as np\n",
    "from time_templates.utilities.plot import plot_profile_1d, plot_hist\n",
    "import pandas as pd\n",
    "from time_templates.datareader.get_data import fetch_MC_data_from_tree\n",
    "from names import DICT_COMP_LABELS\n",
    "colors = ['C0', 'C1', 'C2', 'C3', 'C4', 'C5', 'C6', 'C7', 'C8']\n",
    "markers = ['o', 'x', 'v', '<', '^', '>', 's']\n",
    "lss = ['-', '--', ':', '-.']\n",
    "from matplotlib.colors import LogNorm"
   ]
  },
  {
   "cell_type": "code",
   "execution_count": null,
   "id": "c65cf8a8",
   "metadata": {},
   "outputs": [],
   "source": [
    "df = pd.read_pickle('/home/mart/auger/data/time_templates/mean_df/df_means_merged.pl')\n",
    "# df = df.loc[[0.9, 0.8, 0.7, 0.6, 0.5]]\n",
    "# df = fetch_MC_data_from_tree(energy='19_19.5', primary='proton', dense=True, no_traces=True)\n",
    "# df.index.get_level_values(level=0).unique()\n",
    "# df = df.query('MCr < 2100')"
   ]
  },
  {
   "cell_type": "code",
   "execution_count": null,
   "id": "15882758",
   "metadata": {},
   "outputs": [],
   "source": [
    "df.query('nstations > 10')"
   ]
  },
  {
   "cell_type": "code",
   "execution_count": null,
   "id": "c1639b29",
   "metadata": {},
   "outputs": [],
   "source": [
    "df = pd.read_pickle('/home/mart/auger/data/time_templates/binned_df/binned_df_EPOS_LHC_proton_19_19.5_phased_traces.pl')"
   ]
  },
  {
   "cell_type": "code",
   "execution_count": null,
   "id": "432fdc56",
   "metadata": {},
   "outputs": [],
   "source": [
    "df_gb = df.groupby(df.index.names)\n",
    "df_mean = df_gb.mean()\n",
    "df_var = df_gb.var()\n",
    "n = df_gb[\"MClgE\"].count()\n",
    "df_mean['nstations'] = n\n",
    "for key in df_var.keys():\n",
    "    df_mean[key + \"_var\"] = df_var[key]"
   ]
  },
  {
   "cell_type": "code",
   "execution_count": null,
   "id": "c2396330",
   "metadata": {},
   "outputs": [],
   "source": [
    "def fourier_expansion_3deg(psi, p):\n",
    "    return (p[0] * np.cos(0) + p[1]*np.sin(psi) +\n",
    "                    p[2] * np.cos(psi) + p[3]*np.sin(2*psi) + \n",
    "                    p[4]*np.cos(2*psi) + p[5]*np.sin(3*psi))"
   ]
  },
  {
   "cell_type": "code",
   "execution_count": null,
   "id": "992d1ca5",
   "metadata": {},
   "outputs": [],
   "source": [
    "ct2 = 0.4\n",
    "DX = 500\n",
    "df_ = df_mean.loc[ct2].loc[DX]\n",
    "comp = 'em'\n",
    "r_unique = np.sort(df_.index.get_level_values(level=0).unique())\n",
    "cos_psi_unique = np.sort(df_.index.get_level_values(level=1).unique())\n",
    "nr = len(r_unique)\n",
    "ncp = len(cos_psi_unique)\n",
    "y = df_[f'rho_{comp}_MC'].values\n",
    "yerr= np.sqrt(df_[f'rho_{comp}_MC_var']/df_['nstations']).values\n",
    "r = df_['MCr'].values\n",
    "cos_psi = df_['MCcospsi'].values\n",
    "n = df_['nstations'].values\n",
    "\n",
    "mask = (n > 3) & (yerr > 0) & np.isfinite(y*yerr*n)\n",
    "from scipy.optimize import minimize\n",
    "\n",
    "def fit_func(r, cos_psi, p):\n",
    "    lgr = np.log10(r/1000)\n",
    "    psi = np.arccos(cos_psi)\n",
    "    return (fourier_expansion_3deg(psi, p[:6])*lgr +\n",
    "            fourier_expansion_3deg(psi, p[6:12])*lgr**2 +\n",
    "            fourier_expansion_3deg(psi, p[12:])*lgr**3 )\n",
    "\n",
    "lgy = np.log(y+1e-7)\n",
    "lgyerr = yerr/y\n",
    "minfunc = lambda x: np.sum((lgy[mask]-fit_func(r[mask], cos_psi[mask], x))**2/lgyerr[mask]**2)\n",
    "res = minimize(minfunc, x0=np.ones(18), method='Nelder-Mead')\n",
    "\n",
    "res = minimize(minfunc, x0=res['x'], method='Nelder-Mead')\n",
    "res = minimize(minfunc, x0=res['x'], method='L-BFGS-B')\n",
    "\n",
    "res, len(lgy[mask])-19"
   ]
  },
  {
   "cell_type": "code",
   "execution_count": null,
   "id": "7ef46557",
   "metadata": {},
   "outputs": [],
   "source": [
    "%matplotlib notebook"
   ]
  },
  {
   "cell_type": "code",
   "execution_count": null,
   "id": "49c8fbed",
   "metadata": {},
   "outputs": [],
   "source": [
    "fig = plt.figure(figsize=(8, 8))\n",
    "ax = plt.axes(projection='3d')\n",
    "\n",
    "ax.errorbar(r, cos_psi, y, zerr=yerr, marker='o', ls='', color='k')\n",
    "\n",
    "X, Y = np.meshgrid(np.linspace(500, 2500), np.linspace(-1, 1))\n",
    "Z = np.exp(fit_func(X, Y, res['x']))\n",
    "surf = ax.plot_surface(X, Y, Z, norm=LogNorm(1e-4, 30), rstride=1, cstride=1,\n",
    "                cmap='viridis')\n",
    "# ax.set_zlim([1e-1, 20])\n",
    "# ax.set_zscale('log')\n",
    "\n",
    "fig.colorbar(surf)"
   ]
  },
  {
   "cell_type": "code",
   "execution_count": null,
   "id": "f2c98155",
   "metadata": {},
   "outputs": [],
   "source": [
    "ct2s = df.index.get_level_values(level=0).unique()\n",
    "DXs = df.index.get_level_values(level=1).unique()\n",
    "rs = df.index.get_level_values(level=2).unique()\n",
    "cps = df.index.get_level_values(level=3).unique()"
   ]
  },
  {
   "cell_type": "code",
   "execution_count": null,
   "id": "b50de255",
   "metadata": {},
   "outputs": [],
   "source": [
    "df = df.drop([key for key in df.keys() if 'trace' in key], axis=1)"
   ]
  },
  {
   "cell_type": "code",
   "execution_count": null,
   "id": "0608fc52",
   "metadata": {},
   "outputs": [],
   "source": [
    "df['MCDX_bin'] = pd.cut(df['MCDXstation'], np.arange(0, 1050, 50))"
   ]
  },
  {
   "cell_type": "code",
   "execution_count": null,
   "id": "eb32d243",
   "metadata": {},
   "outputs": [],
   "source": [
    "df_gb = df.groupby(['MCDX_bin', 'MCr_round_idx'])\n",
    "df_sum = df_gb.sum()\n",
    "count = df_gb.count()\n",
    "df_mean = df_sum/count\n",
    "for key in df_mean.keys():\n",
    "    if 'var' in key:\n",
    "        df_mean[key] = df_sum[key]\n",
    "df_mean['nstations'] = df_sum['nstations']"
   ]
  },
  {
   "cell_type": "code",
   "execution_count": null,
   "id": "adfec6e8",
   "metadata": {},
   "outputs": [],
   "source": [
    "df"
   ]
  },
  {
   "cell_type": "code",
   "execution_count": null,
   "id": "2a0cb690",
   "metadata": {},
   "outputs": [],
   "source": [
    "from time_templates.utilities.fitting import plot_fit_curve, fit_curve"
   ]
  },
  {
   "cell_type": "code",
   "execution_count": null,
   "id": "59889f06",
   "metadata": {},
   "outputs": [],
   "source": [
    "f, axes = plt.subplots(2, 2, figsize=(15, 15))\n",
    "\n",
    "#TODO check with signals and divide by y[3]; should give same answers\n",
    "def lgLDF(x, a, b):\n",
    "    return a*(x-3) + b*(x-3)**2\n",
    "\n",
    "from collections import defaultdict\n",
    "dd = defaultdict(list)\n",
    "\n",
    "NSTATION_CUT = 5\n",
    "R_MAX_CUT = 2600\n",
    "comp_labels = list(DICT_COMP_LABELS.keys())\n",
    "for comp, ax in zip(comp_labels, axes.flatten()):\n",
    "    for DX_bin in df_mean.index.get_level_values(level=0).unique():\n",
    "        DX = DX_bin.mid\n",
    "        df_bin = df_mean.loc[DX, :]\n",
    "        try:\n",
    "            rho1000 = df_bin.loc[1000][f'rho_{comp}_MC']\n",
    "        except KeyError:\n",
    "            continue\n",
    "        x = df_bin['MCr'].values\n",
    "        y = df_bin[f'rho_{comp}_MC'].values\n",
    "        y = y/rho1000\n",
    "        n = df_bin['nstations'].values\n",
    "        yerr = np.sqrt(df_bin[f'rho_{comp}_MC_var'].values/n)\n",
    "        lgx = np.log10(x)\n",
    "        lgy = np.log10(y)\n",
    "        lgyerr = yerr/y * 1/np.log(10)\n",
    "        mask = np.isfinite(lgx*lgy*lgyerr) & (lgyerr > 0) & (n > NSTATION_CUT) & (x < R_MAX_CUT)\n",
    "        if len(lgx[mask]) < 4:\n",
    "            continue\n",
    "        else:\n",
    "            ax, (fitp, fitp_err, chi2, ndof) = plot_fit_curve(lgx[mask], lgy[mask], lgLDF, yerr=lgyerr[mask], p0=[5, -1], ax=ax, smoother_x=True)\n",
    "        ax.axhline(0, ls='--', color='k')\n",
    "        ax.axvline(3, ls='--', color='k')\n",
    "        dd['DX'].append(df_bin['MCDXstation'].mean())\n",
    "        dd['comp'].append(comp)\n",
    "        dd['chi2'].append(chi2)\n",
    "        dd['ndof'].append(ndof)\n",
    "        for i, p in enumerate(fitp):\n",
    "            dd[f'p{i}'].append(p)\n",
    "            dd[f'perr{i}'].append(fitp_err[i])\n",
    "\n",
    "df_fit = pd.DataFrame(dd)"
   ]
  },
  {
   "cell_type": "code",
   "execution_count": null,
   "id": "2ea0e3c9",
   "metadata": {},
   "outputs": [],
   "source": [
    "df_fit['red_chi2'] = df_fit['chi2']/df_fit['ndof']"
   ]
  },
  {
   "cell_type": "code",
   "execution_count": null,
   "id": "b88a52e5",
   "metadata": {},
   "outputs": [],
   "source": [
    "DX0 = 400\n",
    "def p_DX_lin(DX, a, b, c):\n",
    "    x = DX/DX0 - 1\n",
    "    return a + b * x + c*x**2\n",
    "\n",
    "dict_ab_fit = {}\n",
    "for comp in comp_labels:\n",
    "    f, axes = plt.subplots(1, 2, figsize=(12, 5))\n",
    "    dict_ab_fit[comp] = {}\n",
    "    for ip, ax in enumerate(axes):\n",
    "        df_ =  df_fit.query(f'comp == \"{comp}\" & ndof > 2 & red_chi2 < 10 & DX < 1000')\n",
    "        ax, (pfit, pfit_err, chi2, ndof) = plot_fit_curve(df_['DX'], df_[f'p{ip}'], func=p_DX_lin, yerr=df_[f'perr{ip}']*np.sqrt(df_['red_chi2']), ax=ax)\n",
    "        dict_ab_fit[comp][ip] = pfit\n",
    "        ax.set_title(comp + f' {ip}')\n",
    "        ax.legend()"
   ]
  },
  {
   "cell_type": "code",
   "execution_count": null,
   "id": "9a6f4e23",
   "metadata": {},
   "outputs": [],
   "source": [
    "for comp in comp_labels:\n",
    "    a = p_DX_lin(df['MCDXstation'].values, *dict_ab_fit[comp][0])\n",
    "    b = p_DX_lin(df['MCDXstation'].values, *dict_ab_fit[comp][1])    \n",
    "\n",
    "    lgr = np.log10(df['MCr'].values)\n",
    "    df[f'rho_{comp}_pred'] = 10**lgLDF(lgr, a, b)\n",
    "    df[f'rho_{comp}_residual'] = df[f'rho_{comp}_MC']/df[f'rho_{comp}_pred']\n",
    "    df[f'rho_{comp}_residual_err'] = df[f'rho_{comp}_residual'] * np.sqrt(df[f'rho_{comp}_MC_var']/df['nstations']/df[f'rho_{comp}_pred']**2 + 0.01**2)"
   ]
  },
  {
   "cell_type": "code",
   "execution_count": null,
   "id": "fb9c6b70",
   "metadata": {},
   "outputs": [],
   "source": [
    "comp = 'em'\n",
    "plot_hist(df[f'rho_{comp}_residual'], bins=np.linspace(0.5, 1.5));"
   ]
  },
  {
   "cell_type": "code",
   "execution_count": null,
   "id": "883cc094",
   "metadata": {},
   "outputs": [],
   "source": [
    "def assym_correction(a, DX, r, sintheta, cospsi):\n",
    "    return np.exp(a*DX/DX0 * r/1000 * sintheta*cospsi)\n",
    "\n",
    "f, ax = plt.subplots(1)\n",
    "\n",
    "dd = defaultdict(list)\n",
    "for comp in comp_labels:\n",
    "    print(\"At\", comp)\n",
    "    for ct2 in ct2s:\n",
    "        ct2 = ct2.mid\n",
    "        sintheta = np.sqrt(1-ct2)\n",
    "        for r in rs:\n",
    "            for cp in cps:\n",
    "                df_bin = df.loc[ct2, :, r, cp]\n",
    "                x = df_bin['MCDXstation']\n",
    "                y = df_bin[f'rho_{comp}_residual']\n",
    "                yerr = df_bin[f'rho_{comp}_residual_err']\n",
    "                nstations = df_bin['nstations']\n",
    "                mask = np.isfinite(x*y*yerr) & (yerr > 0) & (nstations > 10)\n",
    "                if len(x[mask]) < 2:\n",
    "                    continue\n",
    "                fitp, fitp_err, chi2, ndof = fit_curve(x[mask], y[mask], yerr=yerr[mask], func=lambda x, a: assym_correction(a, x, r, sintheta, cp))\n",
    "#                 print(fitp)\n",
    "                dd['comp'].append(comp)\n",
    "                dd['ct2'].append(ct2)\n",
    "                dd['r'].append(r)\n",
    "                dd['cp'].append(cp)\n",
    "                dd['afit'].append(fitp[0])\n",
    "                dd['afit_err'].append(fitp_err[0])\n",
    "                if comp == 'em' and r == 1200 and ct2 < 0.5:\n",
    "                    plot_fit_curve(x[mask], y[mask], yerr=yerr[mask], func=lambda x, a: assym_correction(a, x, r, sintheta, cp), ax=ax)\n",
    "\n",
    "# ax.legend(fontsize=8, ncol=3)    \n",
    "df_assym = pd.DataFrame(dd)"
   ]
  },
  {
   "cell_type": "code",
   "execution_count": null,
   "id": "c480fbc7",
   "metadata": {},
   "outputs": [],
   "source": [
    "dict_assym_afit = df_assym.groupby('comp').mean()['afit']\n",
    "dict_assym_afit['em']"
   ]
  },
  {
   "cell_type": "code",
   "execution_count": null,
   "id": "c1eafacd",
   "metadata": {},
   "outputs": [],
   "source": [
    "for comp in comp_labels:\n",
    "    a = p_DX_lin(df['MCDXstation'].values, *dict_ab_fit[comp][0])\n",
    "    b = p_DX_lin(df['MCDXstation'].values, *dict_ab_fit[comp][1])    \n",
    "    lgr = np.log10(df['MCr'].values)\n",
    "    df[f'rho_{comp}_pred'] = 10**lgLDF(lgr, a, b) * assym_correction(dict_assym_afit[comp], df['MCDXstation'], df['MCr'], np.sin(df['MCTheta']), df['MCcospsi'])\n",
    "    df[f'rho_{comp}_residual'] = df[f'rho_{comp}_MC']/df[f'rho_{comp}_pred']\n",
    "    df[f'rho_{comp}_residual_err'] = df[f'rho_{comp}_residual'] * np.sqrt(df[f'rho_{comp}_MC_var']/df['nstations']/df[f'rho_{comp}_pred']**2 + 0.01**2)"
   ]
  },
  {
   "cell_type": "code",
   "execution_count": null,
   "id": "5b978f77",
   "metadata": {},
   "outputs": [],
   "source": [
    "comp = 'em'\n",
    "plot_hist(df[f'rho_{comp}_residual'], bins=np.linspace(0.5, 1.5));"
   ]
  },
  {
   "cell_type": "code",
   "execution_count": null,
   "id": "33c6d9ed",
   "metadata": {},
   "outputs": [],
   "source": [
    "comp = 'em'\n",
    "plot_profile_1d(df['MCcospsi'], df[f'rho_{comp}_residual'], bins=20);"
   ]
  },
  {
   "cell_type": "code",
   "execution_count": null,
   "id": "9c1d208b",
   "metadata": {},
   "outputs": [],
   "source": []
  }
 ],
 "metadata": {
  "hide_input": false,
  "kernelspec": {
   "display_name": "Python 3 (ipykernel)",
   "language": "python",
   "name": "python3"
  },
  "language_info": {
   "codemirror_mode": {
    "name": "ipython",
    "version": 3
   },
   "file_extension": ".py",
   "mimetype": "text/x-python",
   "name": "python",
   "nbconvert_exporter": "python",
   "pygments_lexer": "ipython3",
   "version": "3.9.7"
  },
  "latex_envs": {
   "LaTeX_envs_menu_present": true,
   "autoclose": false,
   "autocomplete": true,
   "bibliofile": "biblio.bib",
   "cite_by": "apalike",
   "current_citInitial": 1,
   "eqLabelWithNumbers": true,
   "eqNumInitial": 1,
   "hotkeys": {
    "equation": "Ctrl-E",
    "itemize": "Ctrl-I"
   },
   "labels_anchors": false,
   "latex_user_defs": false,
   "report_style_numbering": false,
   "user_envs_cfg": false
  },
  "toc": {
   "base_numbering": 1,
   "nav_menu": {},
   "number_sections": true,
   "sideBar": true,
   "skip_h1_title": false,
   "title_cell": "Table of Contents",
   "title_sidebar": "Contents",
   "toc_cell": false,
   "toc_position": {},
   "toc_section_display": true,
   "toc_window_display": false
  }
 },
 "nbformat": 4,
 "nbformat_minor": 5
}
