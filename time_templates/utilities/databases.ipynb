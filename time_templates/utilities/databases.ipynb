{
 "cells": [
  {
   "cell_type": "code",
   "execution_count": 185,
   "id": "b3cb98a0",
   "metadata": {},
   "outputs": [],
   "source": [
    "import sqlite3\n",
    "import pandas as pd\n",
    "import matplotlib.pyplot as plt\n",
    "import numpy as np\n",
    "from datetime import datetime"
   ]
  },
  {
   "cell_type": "code",
   "execution_count": 496,
   "id": "b99e8df1",
   "metadata": {},
   "outputs": [],
   "source": [
    "def setup_molecular_db(fl=\"/home/mart/auger/data/Atm_Molecular_1_A.sqlite\"):\n",
    "    import sqlite3\n",
    "    con = sqlite3.connect(fl)\n",
    "    return con\n",
    "\n",
    "con = setup_molecular_db()"
   ]
  },
  {
   "cell_type": "code",
   "execution_count": 542,
   "id": "9b31d2b8",
   "metadata": {},
   "outputs": [],
   "source": [
    "def query_database_molecular_profile_gdas(gpssec, con):\n",
    "    # Takes the closest entry to gpssec \n",
    "    #returns dataframe with all \n",
    "    query = (f\"SELECT molecular_id FROM molecular WHERE start_time = (SELECT MAX(start_time) \"\n",
    "             f\"FROM molecular WHERE profile_type_id = {ptype} AND start_time <= {gpssec}\"\n",
    "             f\" AND end_time >= {gpssec}) AND profile_type_id = {ptype}\"\n",
    "             f\" ORDER BY last_modified DESC LIMIT 1\")\n",
    "    cursor = con.cursor()\n",
    "    molecular_id = cursor.execute(query).fetchone()\n",
    "    if molecular_id is None:\n",
    "        raise IndexError(\"Could not find id for\", gpssec)\n",
    "    molecular_id = molecular_id[0]\n",
    "    df = pd.read_sql_query(f\"SELECT * FROM molecular_layer WHERE molecular_zone_id = {molecular_id}\", con)\n",
    "    df['log_height'] = np.log(df['height'])\n",
    "    df['log_depth'] = np.log(df['depth'])\n",
    "    df = df.sort_values(by='height')\n",
    "    return df\n",
    "\n",
    "def get_depth_from_height_table(height, df, zenith=0):\n",
    "    return np.exp(np.interp(np.log(height), df['log_height'], df['log_depth']))/np.cos(zenith)\n",
    "\n",
    "def get_height_from_depth_table(depth, df, zenith=0):\n",
    "    return np.exp(np.interp(np.log(depth*np.cos(zenith)), df['log_depth'][::-1], df['log_height'][::-1]))"
   ]
  },
  {
   "cell_type": "code",
   "execution_count": 585,
   "id": "9898e37a",
   "metadata": {},
   "outputs": [
    {
     "name": "stdout",
     "output_type": "stream",
     "text": [
      "1163417122\n"
     ]
    },
    {
     "data": {
      "image/png": "[encoded data removed]",
      "text/plain": [
       "<Figure size 432x288 with 1 Axes>"
      ]
     },
     "metadata": {
      "needs_background": "light"
     },
     "output_type": "display_data"
    },
    {
     "data": {
      "image/png": "[encoded data removed]",
      "text/plain": [
       "<Figure size 432x288 with 1 Axes>"
      ]
     },
     "metadata": {
      "needs_background": "light"
     },
     "output_type": "display_data"
    }
   ],
   "source": [
    "gpssec = np.random.randint(df.query('start_time > 0 & profile_type_id == 1')['start_time'].min(), df.query('start_time > 0 & profile_type_id == 1')['start_time'].max())\n",
    "print(gpssec)\n",
    "theta = np.deg2rad(45)\n",
    "df_id = query_database_molecular_profile_gdas(gpssec, con)\n",
    "plt.plot(df_id['height'], df_id['depth']/np.cos(theta), 'bo')\n",
    "h = np.linspace(1000, 30000, 1000)\n",
    "plt.plot(h, get_depth_from_height_table(h, df_id, theta))\n",
    "# plt.yscale('log')\n",
    "plt.xscale('log')\n",
    "\n",
    "depth = np.linspace(10, 1300, 10000)\n",
    "plt.figure()\n",
    "plt.plot(df_id['depth']/np.cos(theta), df_id['height'], 'bo')\n",
    "plt.plot(depth, get_height_from_depth_table(depth, df_id, theta))\n",
    "plt.yscale('log')"
   ]
  },
  {
   "cell_type": "code",
   "execution_count": 555,
   "id": "543d66b0",
   "metadata": {},
   "outputs": [
    {
     "data": {
      "text/plain": [
       "881.5600000000001"
      ]
     },
     "execution_count": 555,
     "metadata": {},
     "output_type": "execute_result"
    }
   ],
   "source": [
    "get_depth_from_height_table(1400, df_id, 0)"
   ]
  },
  {
   "cell_type": "code",
   "execution_count": 569,
   "id": "cc1fe05d",
   "metadata": {},
   "outputs": [
    {
     "data": {
      "text/plain": [
       "2619.5405333332656"
      ]
     },
     "execution_count": 569,
     "metadata": {},
     "output_type": "execute_result"
    }
   ],
   "source": [
    "get_height_from_depth_table(880, df_id, np.deg2rad(30))"
   ]
  },
  {
   "cell_type": "code",
   "execution_count": null,
   "id": "cc64d451",
   "metadata": {},
   "outputs": [],
   "source": []
  },
  {
   "cell_type": "code",
   "execution_count": 482,
   "id": "b218cbfe",
   "metadata": {},
   "outputs": [
    {
     "name": "stdout",
     "output_type": "stream",
     "text": [
      "23.6 ms ± 732 µs per loop (mean ± std. dev. of 7 runs, 10 loops each)\n"
     ]
    }
   ],
   "source": [
    "%timeit -n 10  query_database_molecular_profile_gdas(gpssec, con)"
   ]
  },
  {
   "cell_type": "code",
   "execution_count": 486,
   "id": "30bff113",
   "metadata": {},
   "outputs": [
    {
     "data": {
      "text/plain": [
       "880.5311657976372"
      ]
     },
     "execution_count": 486,
     "metadata": {},
     "output_type": "execute_result"
    },
    {
     "data": {
      "image/png": "[encoded data removed]",
      "text/plain": [
       "<Figure size 432x288 with 1 Axes>"
      ]
     },
     "metadata": {
      "needs_background": "light"
     },
     "output_type": "display_data"
    }
   ],
   "source": [
    "plt.plot(df_id['height'], df_id['depth'], 'bo')\n",
    "np.interp(1452, df_id['height'], df_id['depth'])"
   ]
  }
 ],
 "metadata": {
  "hide_input": false,
  "kernelspec": {
   "display_name": "Python 3 (ipykernel)",
   "language": "python",
   "name": "python3"
  },
  "language_info": {
   "codemirror_mode": {
    "name": "ipython",
    "version": 3
   },
   "file_extension": ".py",
   "mimetype": "text/x-python",
   "name": "python",
   "nbconvert_exporter": "python",
   "pygments_lexer": "ipython3",
   "version": "3.9.7"
  },
  "latex_envs": {
   "LaTeX_envs_menu_present": true,
   "autoclose": false,
   "autocomplete": true,
   "bibliofile": "biblio.bib",
   "cite_by": "apalike",
   "current_citInitial": 1,
   "eqLabelWithNumbers": true,
   "eqNumInitial": 1,
   "hotkeys": {
    "equation": "Ctrl-E",
    "itemize": "Ctrl-I"
   },
   "labels_anchors": false,
   "latex_user_defs": false,
   "report_style_numbering": false,
   "user_envs_cfg": false
  },
  "toc": {
   "base_numbering": 1,
   "nav_menu": {},
   "number_sections": true,
   "sideBar": true,
   "skip_h1_title": false,
   "title_cell": "Table of Contents",
   "title_sidebar": "Contents",
   "toc_cell": false,
   "toc_position": {},
   "toc_section_display": true,
   "toc_window_display": false
  }
 },
 "nbformat": 4,
 "nbformat_minor": 5
}
