{
 "cells": [
  {
   "cell_type": "code",
   "execution_count": null,
   "metadata": {},
   "outputs": [],
   "source": [
    "import numpy as np\n",
    "\n",
    "from detector_response import DetectorResponse\n",
    "import matplotlib.pyplot as plt\n",
    "plt.rcParams.update({\"text.usetex\": True, \"font.size\":16, \"font.family\": \"sans\"})\n"
   ]
  },
  {
   "cell_type": "code",
   "execution_count": null,
   "metadata": {},
   "outputs": [],
   "source": [
    "D = DetectorResponse()\n",
    "\n",
    "electron = D.load_single_particle_data('/home/mart/auger/gits/SingleParticleInjection_v2/data/disk_flat_lgE_UUB_SSD_Electron.txt')\n",
    "muon = D.load_single_particle_data('/home/mart/auger/gits/SingleParticleInjection_v2/data/disk_flat_lgE_UUB_SSD_Muon.txt')\n",
    "photon = D.load_single_particle_data('/home/mart/auger/gits/SingleParticleInjection_v2/data/disk_flat_lgE_UUB_SSD_Photon.txt')"
   ]
  },
  {
   "cell_type": "code",
   "execution_count": null,
   "metadata": {},
   "outputs": [],
   "source": [
    "muon2GeV = D.load_single_particle_data('/home/mart/auger/gits/SingleParticleInjection_v2/data/disk_2GeV_UUB_SSD_Muon.txt')"
   ]
  },
  {
   "cell_type": "code",
   "execution_count": null,
   "metadata": {},
   "outputs": [],
   "source": [
    "from utils import plot_boot_binned\n",
    "\n",
    "f, (ax1, ax2) = plt.subplots(1, 2, figsize=(15, 7))\n",
    "bins = 10\n",
    "\n",
    "#Muon\n",
    "df = muon.loc[(muon['E'] >= 1e9) & (muon['VEMpeak'] > 0.01)]\n",
    "plot_boot_binned(df['cos_theta'], df['VEMpeak'], ax=ax1, bins=bins, stat='mean', \n",
    "                color='b', label='muons $E_{kin} >= 1$ GeV')\n",
    "# df = muon1GeV.loc[muon1GeV['VEMpeak'] > 0.01]\n",
    "# plot_boot_binned(df['cos_theta'], df['VEMpeak'], ax=ax1, bins=bins, stat='mean', \n",
    "#                 color='b', label='muons $E_{kin} = 1$ GeV')\n",
    "\n",
    "df = muon.loc[(muon['E'] > 100e6) & (muon['MIPpeak'] > 0.1)]\n",
    "plot_boot_binned(df['cos_theta'], df['MIPpeak'], ax=ax2, bins=bins, color='b', \n",
    "                label='muons $E_{kin} > 100$ MeV');\n",
    "\n",
    "\n",
    "#Electron\n",
    "df = electron.loc[(electron['E'] > 300e6) & (electron['E'] < 400e6) & (electron['VEMpeak'] > 0.01)]\n",
    "plot_boot_binned(df['cos_theta'], df['VEMpeak'], ax=ax1, bins=bins, stat='mean', \n",
    "                color='r', label='electrons $300 < E_{kin}/\\\\mathrm{MeV} < 400$')\n",
    "df = electron.loc[(electron['E'] > 2e6) & (electron['MIPpeak'] > 0.1)]\n",
    "plot_boot_binned(df['cos_theta'], df['MIPpeak'], ax=ax2, bins=bins, color='r',\n",
    "                label='electrons $E_{kin} > 2$ MeV');\n",
    "\n",
    "#Photons\n",
    "df = photon.loc[(photon['E'] > 300e6) & (photon['E'] < 400e6) & (photon['VEMpeak'] > 0.01)]\n",
    "plot_boot_binned(df['cos_theta'], df['VEMpeak'], ax=ax1, bins=bins, stat='mean', \n",
    "                color='y', label='photons $300 < E_{kin}/\\\\mathrm{MeV} < 400$')\n",
    "\n",
    "theta = np.linspace(0, np.pi/3)\n",
    "D.SSD = False\n",
    "ax1.plot(np.cos(theta), D.TL(theta), 'k--', label='average track length WCD', lw=2)\n",
    "D.SSD = True\n",
    "ax2.plot(np.cos(theta), D.TL(theta), 'k:', label='average track length SSD', lw=2)  \n",
    "\n",
    "for ax in [ax1, ax2]:\n",
    "    ax.set_xlabel('$\\\\cos{\\\\chi}$')\n",
    "#     ax.set_ylim([0.5, 2])\n",
    "ax1.set_ylabel('VEM peak')\n",
    "ax2.set_ylabel('MIP peak')\n",
    "ax1.set_title('WCD')\n",
    "ax2.set_title('SSD (hit)')\n",
    "ax1.legend()\n",
    "ax2.legend()\n",
    "plt.savefig('detector_TL_response.png', dpi=300, bbox_inches='tight')"
   ]
  },
  {
   "cell_type": "code",
   "execution_count": null,
   "metadata": {},
   "outputs": [],
   "source": [
    "f, ax = plt.subplots(1)\n",
    "bins = 10\n",
    "\n",
    "#Muon\n",
    "df = muon.loc[(muon['E'] < 400e6) & (muon['VEMpeak'] > 0)]\n",
    "plot_boot_binned(df['cos_theta'], df['VEMpeak'], ax=ax, bins=bins, stat='mean', \n",
    "                color='b', label='muons $E_{kin} < 400$ MeV');\n",
    "\n",
    "ax.set_xlabel('$\\\\cos{\\\\chi}$')\n",
    "ax.set_ylabel('VEM peak')\n",
    "\n",
    "ax.legend()\n",
    "plt.savefig('detector_TL_response_muon<400MeV.png', dpi=300, bbox_inches='tight')"
   ]
  },
  {
   "cell_type": "code",
   "execution_count": null,
   "metadata": {},
   "outputs": [],
   "source": [
    "f, (ax1, ax2) = plt.subplots(1, 2, figsize=(15, 7))\n",
    "\n",
    "colors = ['b', 'r', 'y']\n",
    "labels = ['muons', 'electrons', 'photons']\n",
    "\n",
    "for i, df in enumerate([muon, electron, photon]):\n",
    "\n",
    "    ax1.scatter(df['E'], df['VEMpeak'], marker='.', alpha=0.2, color=colors[i])\n",
    "    ax2.scatter(df['E'], df['MIPpeak'], marker='.', alpha=0.2, color=colors[i])\n",
    "    \n",
    "    \n",
    "Espace = np.logspace(np.log10(2e6), np.log10(2e9))\n",
    "\n",
    "def curve_EM(E, Evem):\n",
    "    return E/Evem\n",
    "\n",
    "def curve_muon(E, Evem):\n",
    "    return np.heaviside(E-Evem, 1) + np.heaviside(Evem-E, 1)*(E/Evem)**2\n",
    "\n",
    "\n",
    "Evem = 380e6\n",
    "ax1.plot(Espace, curve_EM(Espace, Evem), 'r-', lw=4)\n",
    "ax1.plot(Espace, curve_muon(Espace, Evem), 'b-', lw=4)\n",
    "\n",
    "ax2.plot(Espace, np.ones_like(Espace), 'b-', lw=4)\n",
    "ax2.plot(Espace, np.ones_like(Espace), 'r--', lw=3)\n",
    "\n",
    "from matplotlib.lines import Line2D\n",
    "custom_lines = [Line2D([0], [0], color='b', marker='o', ls=''),\n",
    "                Line2D([0], [0], color='r', marker='o', ls=''),\n",
    "                Line2D([0], [0], color='y', marker='o', ls=''),\n",
    "                Line2D([0], [0], color='b', ls='-'),\n",
    "                Line2D([0], [0], color='r', ls='-')]\n",
    "\n",
    "ax1.legend(custom_lines, ['muons', 'electrons', 'photons', 'muon model', 'EM model'])\n",
    "\n",
    "for ax in [ax1, ax2]:\n",
    "    ax.set_ylim([1e-2, 10])\n",
    "\n",
    "    ax.set_xscale('log')\n",
    "    ax.set_yscale('log')\n",
    "    ax.set_xlabel('$E_{\\\\mathrm{kin}}$ [eV]')\n",
    "    \n",
    "ax1.set_ylabel('VEM peak')\n",
    "ax2.set_ylabel('MIP peak')\n",
    "ax1.set_title('WCD')\n",
    "ax2.set_title('SSD')\n",
    "plt.savefig('detector_E_response.png', bbox_inches='tight', dpi=300)"
   ]
  },
  {
   "cell_type": "code",
   "execution_count": null,
   "metadata": {},
   "outputs": [],
   "source": []
  }
 ],
 "metadata": {
  "kernelspec": {
   "display_name": "Python 3",
   "language": "python",
   "name": "python3"
  },
  "language_info": {
   "codemirror_mode": {
    "name": "ipython",
    "version": 3
   },
   "file_extension": ".py",
   "mimetype": "text/x-python",
   "name": "python",
   "nbconvert_exporter": "python",
   "pygments_lexer": "ipython3",
   "version": "3.8.3"
  }
 },
 "nbformat": 4,
 "nbformat_minor": 4
}
