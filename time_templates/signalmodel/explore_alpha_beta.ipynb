{
 "cells": [
  {
   "cell_type": "code",
   "execution_count": null,
   "metadata": {},
   "outputs": [],
   "source": [
    "from time_templates.data.get_data import get_MC_data\n",
    "import matplotlib.pyplot as plt\n",
    "import numpy as np"
   ]
  },
  {
   "cell_type": "code",
   "execution_count": null,
   "metadata": {},
   "outputs": [],
   "source": [
    "df = get_MC_data(grouped=True)"
   ]
  },
  {
   "cell_type": "code",
   "execution_count": null,
   "metadata": {},
   "outputs": [],
   "source": [
    "df.shape"
   ]
  },
  {
   "cell_type": "code",
   "execution_count": null,
   "metadata": {},
   "outputs": [],
   "source": [
    "plt.figure()\n",
    "plt.hist(df['a'], bins=np.linspace(0, 1));"
   ]
  },
  {
   "cell_type": "code",
   "execution_count": null,
   "metadata": {},
   "outputs": [],
   "source": [
    "df.keys()"
   ]
  },
  {
   "cell_type": "code",
   "execution_count": null,
   "metadata": {},
   "outputs": [],
   "source": [
    "from utils import plot_boot_binned"
   ]
  },
  {
   "cell_type": "code",
   "execution_count": null,
   "metadata": {},
   "outputs": [],
   "source": [
    "df_ = df.query('(MCr == 800) & (MCCosTheta > 0.95)')\n",
    "plot_boot_binned(df_['MClgE'], df_['a'], remove_outliers=(0, 1), stat='mean');"
   ]
  },
  {
   "cell_type": "code",
   "execution_count": null,
   "metadata": {},
   "outputs": [],
   "source": [
    "f, ax = plt.subplots(1)\n",
    "df_ = df.query('(MClgE > 19.4) & (MClgE < 19.6) & (MCCosTheta > 0.95)')\n",
    "\n",
    "\n",
    "ax.hist(df_['SSDEMSignal']/(df_['SSDEMSignal'] + df_['WCDEMSignal']), bins=np.linspace(0, 1));\n",
    "ax.set_ylabel('')"
   ]
  },
  {
   "cell_type": "code",
   "execution_count": null,
   "metadata": {},
   "outputs": [],
   "source": [
    "ax, _ = plot_boot_binned(df_['MCr'], 0.38* df_['WCDTotalSignal']/df_['SSDTotalSignal'],\n",
    "                stat='mean', remove_outliers=(0, 2));\n",
    "ax.set_ylim([0.0, 0.5])"
   ]
  },
  {
   "cell_type": "code",
   "execution_count": null,
   "metadata": {},
   "outputs": [],
   "source": [
    "import uproot"
   ]
  },
  {
   "cell_type": "code",
   "execution_count": null,
   "metadata": {},
   "outputs": [],
   "source": [
    "fl_E = uproot.open('/home/mart/auger/data/UUB_sims/test/test_Espec_DAT111120.root')"
   ]
  },
  {
   "cell_type": "code",
   "execution_count": null,
   "metadata": {},
   "outputs": [],
   "source": [
    "fl_E.keys()"
   ]
  },
  {
   "cell_type": "code",
   "execution_count": null,
   "metadata": {},
   "outputs": [],
   "source": [
    "electron_hist = fl_E['electron_hist_lgE_19.2_ct_0.95_Xmax_788;1']\n",
    "photon_hist = fl_E['photon_hist_lgE_19.2_ct_0.95_Xmax_788;1']"
   ]
  },
  {
   "cell_type": "code",
   "execution_count": null,
   "metadata": {},
   "outputs": [],
   "source": [
    "h_el, r_bins, psi_bins, lgE_bins = electron_hist.to_numpy()\n",
    "h_ph, r_bins, psi_bins, lgE_bins = photon_hist.to_numpy()"
   ]
  },
  {
   "cell_type": "code",
   "execution_count": null,
   "metadata": {},
   "outputs": [],
   "source": [
    "h_el[0, 0]"
   ]
  },
  {
   "cell_type": "code",
   "execution_count": null,
   "metadata": {},
   "outputs": [],
   "source": [
    "f, ax = plt.subplots(1)\n",
    "\n",
    "r = 500\n",
    "ir = np.argmin(np.abs(r_bins[:-1]-r))\n",
    "\n",
    "spec_el = h_el[ir, :, :].sum(axis=0)\n",
    "spec_ph = h_ph[ir, :, :].sum(axis=0)\n",
    "mlgE = (lgE_bins[1:] + lgE_bins[:-1])/2\n",
    "E = 10**mlgE\n",
    "\n",
    "ax.plot(mlgE, spec_el, 'r-')\n",
    "ax.plot(mlgE,  spec_ph, 'y-')\n",
    "\n",
    "ax.set_yscale('log')\n",
    "ax.set_title('r = %.0f m' % r)\n",
    "def calculate_ave_E(spec, E, low=0, high=1e12):\n",
    "    mask = (E>0) & (E<high)\n",
    "    return (spec*E)[mask].sum()/spec.sum()\n",
    "\n",
    "Ee = calculate_ave_E(spec_el, E)/1e6\n",
    "Eph = calculate_ave_E(spec_ph, E)/1e6\n",
    "\n",
    "Evem = 380\n",
    "\n",
    "Ne = spec_el.sum()\n",
    "Nph = spec_ph.sum()\n",
    "\n",
    "rph = Nph/Ne\n",
    "print(rph, Ee/Evem, Eph/Evem)\n",
    "alpha = (Ee + Eph*rph)/Evem\n",
    "print(alpha)"
   ]
  },
  {
   "cell_type": "code",
   "execution_count": null,
   "metadata": {},
   "outputs": [],
   "source": []
  }
 ],
 "metadata": {
  "kernelspec": {
   "display_name": "Python 3",
   "language": "python",
   "name": "python3"
  },
  "language_info": {
   "codemirror_mode": {
    "name": "ipython",
    "version": 3
   },
   "file_extension": ".py",
   "mimetype": "text/x-python",
   "name": "python",
   "nbconvert_exporter": "python",
   "pygments_lexer": "ipython3",
   "version": "3.8.3"
  }
 },
 "nbformat": 4,
 "nbformat_minor": 4
}
