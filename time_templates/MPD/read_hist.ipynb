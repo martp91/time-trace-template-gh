{
 "cells": [
  {
   "cell_type": "code",
   "execution_count": null,
   "id": "24db2b2b",
   "metadata": {},
   "outputs": [],
   "source": [
    "import uproot\n",
    "import hist\n",
    "import matplotlib.pyplot as plt\n",
    "from scipy.interpolate import interp1d, interp2d\n",
    "import numpy as np\n",
    "from scipy.optimize import curve_fit\n",
    "from matplotlib.colors import LogNorm\n",
    "from time_templates.utilities.plot import add_identity, plot_profile_1d, plot_hist\n",
    "import pandas as pd\n",
    "from time_templates.datareader.get_data import fetch_MC_data_from_tree\n",
    "from time_templates.utilities.fitting import plot_fit_curve\n",
    "from time_templates.utilities import plot as ttplt\n",
    "from time_templates.utilities.misc import histedges_equalN\n",
    "\n",
    "PRIMARY_COLORS = {'proton': \"b\", 'iron': \"r\"}\n",
    "HIM_MARKERS = {'EPOS_LHC': 'o', 'QGSJET-II.04': '^', 'SIB23': 'x'}\n",
    "HIM_LS = {'EPOS_LHC': '-', 'QGSJET-II.04': '--', 'SIB23': ':'}\n",
    "from matplotlib.lines import Line2D\n",
    "\n",
    "him_marker_handles = [Line2D([0], [0], marker='o', color='grey', ls=''),\n",
    "              Line2D([0], [0], marker='^', color='grey', ls='')]\n",
    "him_ls_handles = [Line2D([0], [0], ls='-', color='grey'),\n",
    "              Line2D([0], [0], ls='--', color='grey')]\n",
    "him_labels = ['EPOS-LHC', 'QGSJet-II.04']\n",
    "primary_handles = [Line2D([0], [0], color=\"#1D5287\", lw=10),\n",
    "                  Line2D([0], [0], color=\"#BC313D\", lw=10)]\n",
    "primary_labels = ['proton', 'iron']\n",
    "plt.style.use('thesis')"
   ]
  },
  {
   "cell_type": "code",
   "execution_count": null,
   "id": "e4bea135",
   "metadata": {},
   "outputs": [],
   "source": [
    "dfs = []\n",
    "\n",
    "for HIM in ['EPOS_LHC', 'QGSJET-II.04']:\n",
    "    for primary in ['proton', 'iron']:\n",
    "        for energy in ['19_19.5']:\n",
    "            df = fetch_MC_data_from_tree(HIM=HIM, primary=primary, energy=energy, dense=False, no_traces=True, force=False)\n",
    "            df['HIM'] = HIM\n",
    "            dfs.append(df)\n",
    "\n",
    "df = pd.concat(dfs)\n",
    "# df['shower_id'] = df['adstFilename'].str[-11:-5].astype('int')\n",
    "\n",
    "# df = df.query('MCCosTheta > 0.6 & MClgE >= 19')\n",
    "# df_mpd = pd.read_pickle(f'~/auger/data/time_templates/df_MPD.pl')\n",
    "# df = df.reset_index().merge(df_mpd, on='shower_id').set_index(['EventId', 'StationId'])\n",
    "df = df.groupby('EventId').apply(lambda x: x.iloc[0])"
   ]
  },
  {
   "cell_type": "code",
   "execution_count": null,
   "id": "fc47dcc4",
   "metadata": {},
   "outputs": [],
   "source": [
    "f, ax = plt.subplots(1)\n",
    "bins = np.linspace(400, 800)\n",
    "for HIM, df_him in df.groupby('HIM'):\n",
    "    for primary, df_prim in df_him.groupby('primary'):\n",
    "        plot_hist(df_prim['Xmumax_1700'], bins=bins, histtype='step', color=PRIMARY_COLORS[primary], ls=HIM_LS[HIM], density=True, ax=ax)\n",
    "ax.legend(him_ls_handles+primary_handles, him_labels+primary_labels)\n",
    "ax.set_xlabel('Xmumax (r>1700m) [g/cm2]')"
   ]
  },
  {
   "cell_type": "code",
   "execution_count": null,
   "id": "746a6b52",
   "metadata": {},
   "outputs": [],
   "source": [
    "f, ax = plt.subplots(1, 1, figsize=(5.5, 2.8))\n",
    "\n",
    "def att_factor(sct, a, b, c=-200, d=0, cut=1.556):\n",
    "    sct_ = sct - cut\n",
    "    return a + b*sct_ + c*sct_**2 + d*sct_**3\n",
    "\n",
    "bins = 1/np.sqrt(np.linspace(0.5**2, 1, 25))[::-1]\n",
    "boots = 0\n",
    "slopes = np.zeros(4)\n",
    "slopes_err = np.zeros(4)\n",
    "i = 0\n",
    "for HIM, df_him in df.groupby('HIM'):\n",
    "    for primary, df_prim in df_him.groupby('primary'):\n",
    "        ax, (x, y, yerr) = plot_profile_1d(df_prim['MCSecTheta'], df_prim['Xmumax_1700'], bins=bins, ax=ax, bootstraps=boots,\n",
    "                                           color=PRIMARY_COLORS[primary], marker=HIM_MARKERS[HIM])#,  weights=1/df_['Xmumax_1700_err']**2)\n",
    "        mask = np.isfinite(x*y*yerr) & (x>1.3) & (x < 1.68)\n",
    "        ax, (fitp_scale, fitp_err, _, _) = plot_fit_curve(x[mask], y[mask], func=att_factor, yerr=np.sqrt(yerr[mask]**2 + 0**2),  p0=[500, 100],\n",
    "                                             ebar_kws=dict(color=PRIMARY_COLORS[primary], ls='', marker=HIM_MARKERS[HIM]), line_kws=dict(ls=HIM_LS[HIM]),\n",
    "                                                   ax=ax, smoother_x=True)\n",
    "#         print(fitp_scale)\n",
    "        slopes[i] = fitp_scale[1]\n",
    "        slopes_err[i] = fitp_err[1]\n",
    "        i+=1\n",
    "        \n",
    "ax.axvspan(1, 1.3, color='k', hatch='//', alpha=0.3)\n",
    "ax.axvspan(1.66, 2, color='k', hatch='\\\\\\\\', alpha=0.3)\n",
    "\n",
    "ax.set_xlim([1, 2])\n",
    "ax.set_ylim([400, 650])\n",
    "slope = np.average(slopes, weights=1/slopes_err**2)\n",
    "# slope = np.mean(slopes[:2])\n",
    "print(slope)\n",
    "\n",
    "# ax.legend()\n",
    "ax.set_xlabel('$\\sec \\\\theta$')\n",
    "ax.set_ylabel('$X^\\\\mu_{\\\\rm max}(r > 1700\\, \\\\rm m)\\, [\\\\rm g/cm^2]$');\n",
    "ax_top = ax.twiny()\n",
    "ax_top.set_xlim(ax.get_xlim())\n",
    "# new_tick_locations = np.arange(1, 2.1, 0.2)\n",
    "new_tick_locations = np.array([1, 1/np.cos(np.deg2rad(30)), 1.3, 1/np.cos(np.deg2rad(45)), 1/np.cos(np.deg2rad(50)), 1.66, 2])\n",
    "ax_top.set_xticks(new_tick_locations)\n",
    "ax_top.minorticks_off()\n",
    "new_tick_labels = np.rad2deg(np.arccos(1/new_tick_locations))\n",
    "ax_top.set_xticklabels([int(round(l, 0)) for l in new_tick_labels])\n",
    "ax_top.set_xlabel('$\\\\theta$ [deg]')\n",
    "plt.savefig('/home/mart/auger/projects/time_templates/plots/Xmumax_1700_vs_theta.pdf', bbox_inches='tight')\n",
    "\n",
    "f, ax = plt.subplots(1, 1, figsize=(5, 3))\n",
    "df['Xmumax_50'] = df['Xmumax_1700']-att_factor(df['MCSecTheta'], 0, slope)\n",
    "\n",
    "for HIM, df_him in df.groupby('HIM'):\n",
    "    for primary, df_prim in df_him.groupby('primary'):\n",
    "        ax, (x, y, yerr) = plot_profile_1d(df_prim['MCSecTheta'], df_prim['Xmumax_50'], bins=bins, ax=ax, \n",
    "                                          color=PRIMARY_COLORS[primary], marker=HIM_MARKERS[HIM])\n",
    "ax.grid()\n",
    "ax.axvspan(1, 1.3, color='k', hatch='//', alpha=0.3)\n",
    "# ax.set_ylim([-50, 50])\n",
    "# ax.fill_between([1.3, 1.65], -10, 10, color='k', alpha=0.2)\n",
    "# ax.axhspan(-10, 10, color='k', alpha=0.2)\n",
    "# ax.axhline(0, ls='--', color='k')\n",
    "# ax.axvspan(1/0.6, 2., color='k', alpha=0.2)\n",
    "ax.set_xlim([1, 1.65])\n",
    "ax.legend(him_marker_handles+primary_handles, him_labels+primary_labels, loc=2)\n"
   ]
  },
  {
   "cell_type": "code",
   "execution_count": null,
   "id": "03dac984",
   "metadata": {},
   "outputs": [],
   "source": [
    "f, ax = plt.subplots(1, figsize=(9, 6))\n",
    "bins = np.linspace(400, 750, 20)\n",
    "for HIM, df_him in df.groupby('HIM'):\n",
    "    for primary, df_prim in df_him.groupby('primary'):\n",
    "        plot_hist(df_prim['Xmumax_50'], bins=bins, histtype='step', color=PRIMARY_COLORS[primary], ls=HIM_LS[HIM], density=True, ax=ax)\n",
    "ax.legend(him_ls_handles+primary_handles, him_labels+primary_labels)\n",
    "ax.set_xlabel('Xmumax (theta=50)(r>1700m) [g/cm2]')"
   ]
  },
  {
   "cell_type": "code",
   "execution_count": null,
   "id": "615c02f0",
   "metadata": {},
   "outputs": [],
   "source": [
    "f, ax = plt.subplots(1, figsize=(4, 3.5))\n",
    "a = []\n",
    "a_err = []\n",
    "slopes = []\n",
    "slopes_err = []\n",
    "lines = []\n",
    "labels = []\n",
    "for HIM, df_him in df.groupby('HIM'):\n",
    "    him = HIM.replace('_', ' ')\n",
    "    for primary, df_prim in df_him.groupby('primary'):\n",
    "        df_prim.query('MCCosTheta < 0.77 & MCCosTheta > 0.6')\n",
    "        ax, (x, y, yerr) = ttplt.plot_profile_1d(df_prim['MCXmax'], df_prim['Xmumax_50'], bins=np.linspace(650, 1000, 20),\n",
    "                                                 color=PRIMARY_COLORS[primary], marker=HIM_MARKERS[HIM], ax=ax, alpha=0)\n",
    "        mask = np.isfinite(x*y*yerr) & (yerr > 0)\n",
    "        ax, (pfit, perr, _, _) = plot_fit_curve(x[mask], y[mask], yerr=yerr[mask], func=lambda x, a, b: a+b*(x-750), ax=ax,\n",
    "                                                ebar_kws=dict(color=PRIMARY_COLORS[primary], marker=HIM_MARKERS[HIM], ls=''), line_kws=dict(ls=HIM_LS[HIM]))\n",
    "        lines.append(Line2D([0], [0], color=PRIMARY_COLORS[primary], marker=HIM_MARKERS[HIM], ls=HIM_LS[HIM]))\n",
    "        labels.append(f'{him} {primary} \\n slope $= {pfit[1]:.2f} \\\\pm {perr[1]:.2f}$')\n",
    "        slopes.append(pfit[1])\n",
    "        slopes_err.append(perr[1])\n",
    "        a.append(pfit[0])\n",
    "        a_err.append(pfit[1])\n",
    "        \n",
    "slope = np.average(slopes, weights=1/np.array(slopes_err)**2)\n",
    "a = np.average(a, weights=1/np.array(a_err)**2)\n",
    "print(a, slope)\n",
    "x = np.linspace(650, 950)\n",
    "# ax.plot(x, a+slope*(x-750), 'k-')\n",
    "# ax.legend(ncol=2)\n",
    "\n",
    "ax.legend(lines, labels, loc=2)\n",
    "ax.set_xlim([620, 1010])\n",
    "ax.set_ylim([430, 850])\n",
    "ax.set_xlabel('$X_{\\\\rm max} \\, [\\\\rm g/cm^2]$')\n",
    "ax.set_ylabel('$X^\\\\mu_{\\\\rm max}(\\\\theta = 50^\\\\circ,\\, r > 1700\\, \\\\rm m)\\, [\\\\rm g/cm^2]$')\n",
    "plt.savefig('/home/mart/auger/projects/time_templates/plots/Xmax_vs_Xmumax_theta40-53_r1700m.pdf', bbox_inches='tight')"
   ]
  },
  {
   "cell_type": "code",
   "execution_count": null,
   "id": "8c82b287",
   "metadata": {},
   "outputs": [],
   "source": [
    "def Xmax_from_Xmumax_50(Xmumax_50):\n",
    "    return 750 + (Xmumax_50-546)/0.693\n",
    "f, ax = plt.subplots(1, figsize=(9, 7))\n",
    "a = []\n",
    "a_err = []\n",
    "slopes = []\n",
    "slopes_err = []\n",
    "for HIM, df_him in df.groupby('HIM'):\n",
    "    for primary, df_prim in df_him.groupby('primary'):\n",
    "        plot_hist(df_prim['MCXmax'] - Xmax_from_Xmumax_50(df['Xmumax_50']), bins=np.linspace(-200, 200, 40), histtype='step',\n",
    "                 color=PRIMARY_COLORS[primary], ls=HIM_LS[HIM], ax=ax, density=True)\n",
    "ax.set_xlabel('Xmax - Xmax(Xmumax_50) [g/cm2]')\n",
    "ax.set_xlim([-100, 100])"
   ]
  },
  {
   "cell_type": "code",
   "execution_count": null,
   "id": "8473062d",
   "metadata": {},
   "outputs": [],
   "source": [
    "ct2s = np.linspace(0.36, 1, 7)\n",
    "a_fits = np.zeros((len(ct2s)-1))\n",
    "b_fits = np.zeros((len(ct2s)-1))\n",
    "a_errs = np.zeros((len(ct2s)-1))\n",
    "b_errs = np.zeros((len(ct2s)-1))\n",
    "for i, ct2 in enumerate(ct2s[:-1]):\n",
    "    f, ax = plt.subplots(1)\n",
    "    ct_l = np.sqrt(ct2)\n",
    "    ct_r = np.sqrt(ct2s[i+1])\n",
    "    a = 0\n",
    "    b = 0\n",
    "    aerr = 0\n",
    "    berr = 0\n",
    "#     for primary, df_ in df.groupby(['primary']):\n",
    "    df_ = df.query(f'MCCosTheta >= {ct_l} & MCCosTheta < {ct_r} & primary == \"proton\" & HIM == \"EPOS_LHC\"')\n",
    "    ax, (x, y, yerr) = ttplt.plot_profile_1d(df_['MCXmax'], df_['Xmumax_50'], bins=10, color=PRIMARY_COLORS[primary], ax=ax)\n",
    "    mask = np.isfinite(x*y*yerr) & (yerr > 0)\n",
    "    ax, (pfit, perr, _, _) = plot_fit_curve(x[mask], y[mask], yerr=yerr[mask], func=lambda x, a, b: a+b*(x-750), ax=ax, ebar_kws=dict(color=PRIMARY_COLORS[primary], ls=''))\n",
    "    a = pfit[0]\n",
    "    b = pfit[1]\n",
    "    aerr = perr[0]#**2\n",
    "    berr = perr[1]#**2\n",
    "#     a /= 2\n",
    "#     b /= 2\n",
    "#     aerr = np.sqrt(aerr/2)\n",
    "#     berr = np.sqrt(berr/2)\n",
    "    a_fits[i] = a\n",
    "    b_fits[i] = b\n",
    "    a_errs[i] = aerr\n",
    "    b_errs[i] = berr\n",
    "    ax.legend()"
   ]
  },
  {
   "cell_type": "code",
   "execution_count": null,
   "id": "537fe210",
   "metadata": {},
   "outputs": [],
   "source": [
    "f, (ax1, ax2) = plt.subplots(1, 2, figsize=(12, 5))\n",
    "ct2s_ = (ct2s[:-1]+ct2s[1:])/2\n",
    "\n",
    "plot_fit_curve(1/np.sqrt(ct2s_), a_fits, yerr=a_errs, func=lambda x, a: a+0*(x-1.556), ax=ax1, smoother_x=True)\n",
    "plot_fit_curve(1/np.sqrt(ct2s_), b_fits, yerr=b_errs, func=lambda x, a, b: a+b*(x-1.556), ax=ax2, smoother_x=True)\n",
    "\n",
    "ax1.legend()\n",
    "ax2.legend()"
   ]
  },
  {
   "cell_type": "code",
   "execution_count": null,
   "id": "ce32c45c",
   "metadata": {},
   "outputs": [],
   "source": [
    "def Xmumax_50_from_Xmax(Xmax, theta=0.87266):\n",
    "    #EPOS LHC average between iron proton\n",
    "    #determined in bins of cos^theta\n",
    "    sct = 1 / np.cos(theta)\n",
    "    a = 547.9\n",
    "    b = 0.736 + 0.5 * (sct - 1.556)\n",
    "    return a + b * (Xmax - 750)\n",
    "\n",
    "df['Xmumax_50_pred'] = Xmumax_50_from_Xmax(df['MCXmax'], df['MCTheta'])"
   ]
  },
  {
   "cell_type": "code",
   "execution_count": null,
   "id": "18883560",
   "metadata": {},
   "outputs": [],
   "source": [
    "df_ = df.query('HIM == \"EPOS_LHC\"')\n",
    "ttplt.plot_hist(df_['Xmumax_50'] - df_['Xmumax_50_pred'], bins=np.linspace(-100, 100));"
   ]
  },
  {
   "cell_type": "code",
   "execution_count": null,
   "id": "093fd9b8",
   "metadata": {},
   "outputs": [],
   "source": [
    "f, ax = plt.subplots(1)\n",
    "df_E = df.query('HIM == \"EPOS_LHC\"')\n",
    "for primary, df_ in df_E.groupby(['primary']):\n",
    "    ttplt.plot_profile_1d(df_['MClgE'], df_['Xmumax_50_pred']-df_['Xmumax_50'], bins=10, ax=ax, color=PRIMARY_COLORS[primary])\n",
    "    "
   ]
  },
  {
   "cell_type": "code",
   "execution_count": null,
   "id": "e904aaea",
   "metadata": {},
   "outputs": [],
   "source": [
    "f, ax = plt.subplots(1)\n",
    "for primary, color in zip(['proton', 'iron'], ['b', 'r']):\n",
    "    df_ = df.query(f\"primary == '{primary}' & MCCosTheta < 0.8\")\n",
    "    \n",
    "#     df_['Xmumax_1700_corr'] = df_['Xmumax_1700'] - att_factor(df_['MCSecTheta'], 0, 170)\n",
    "    ax, (x, y, yerr) = plot_profile_1d(df_['MClgE'], df_['Xmumax_50'], bins=10, ax=ax, color=color)\n",
    "    ax, (fitp_scale, _, _, _) = plot_fit_curve(x, y, func=lambda x, a, b: a+b*(x-np.log10(3e19)), yerr=np.sqrt(yerr**2 + 0**2),\n",
    "                                         ebar_kws=dict(color=color, ls='', marker='o'), ax=ax, smoother_x=True) \n",
    "    \n",
    "ax.legend()"
   ]
  },
  {
   "cell_type": "code",
   "execution_count": null,
   "id": "78f4a6e4",
   "metadata": {},
   "outputs": [],
   "source": [
    "\n",
    "df['Xmumax_38'] = df['Xmumax_1000'] / att_factor(df['MCCosTheta']**2, *fitp_scale)\n",
    "ax, _ = plot_profile_1d(df['MCSecTheta'], df['Xmumax_38'], bins=15);\n",
    "# ax.scatter(np.sin(df['MCTheta'])**2, df['Xmumax_38'], marker='.', alpha=0.1)\n",
    "\n",
    "# plot_profile_1d(df['MClgE'], df['Xmumax_38'], bins=10);"
   ]
  },
  {
   "cell_type": "code",
   "execution_count": null,
   "id": "ba976f44",
   "metadata": {},
   "outputs": [],
   "source": [
    "tau = 2.2e-6 #sec\n",
    "Ekin = 1000 #MeV\n",
    "m = 105 #MeV\n",
    "E = Ekin + m\n",
    "gamma = E/m\n",
    "beta = np.sqrt(1 - 1/gamma**2)\n",
    "c = 2.998e8 #m/s\n",
    "L = gamma * c * beta * tau\n",
    "Xmumax = 650 #g/cm2\n",
    "theta = 40 #deg\n",
    "from time_templates.utilities.atmosphere import Atmosphere\n",
    "atm = Atmosphere()\n",
    "hground = 1400\n",
    "h = atm.height_at_slant_depth(Xmumax, np.deg2rad(theta)) - hground\n",
    "print(f\"A muon with Ekin = {Ekin:.0f} MeV travels on average {L:.2f} m before decaying\")\n",
    "print(f\"For Xmumax = {Xmumax:.0f} g/cm^2 and theta = {theta:.0f} deg the distance to the ground is {h:.1f} m\")"
   ]
  },
  {
   "cell_type": "code",
   "execution_count": null,
   "id": "e13ae7cc",
   "metadata": {},
   "outputs": [],
   "source": [
    "from fit_read_hist import Xmumax_from_hist_from_rootfile"
   ]
  },
  {
   "cell_type": "code",
   "execution_count": null,
   "id": "80cdd5a1",
   "metadata": {},
   "outputs": [],
   "source": [
    "import glob\n",
    "\n",
    "files = glob.glob('/home/mart/auger/data/UUB_sims_rec/MPD_new/MPD_EPOS_LHC*.root')\n",
    "files"
   ]
  },
  {
   "cell_type": "code",
   "execution_count": null,
   "id": "ed5dec4d",
   "metadata": {},
   "outputs": [],
   "source": [
    "Xmumax_from_hist_from_rootfile(np.random.choice(files), plot=True)"
   ]
  },
  {
   "cell_type": "code",
   "execution_count": null,
   "id": "bf22e928",
   "metadata": {},
   "outputs": [],
   "source": [
    "import uproot\n",
    "fl = uproot.open('/home/mart/auger/data/time_templates/MPD/MPD_EPOS_LHC_proton_18.5_19_DAT100055.root')"
   ]
  },
  {
   "cell_type": "code",
   "execution_count": null,
   "id": "eaa897de",
   "metadata": {},
   "outputs": [],
   "source": [
    "h3d = fl[fl.keys()[0]].to_hist()"
   ]
  },
  {
   "cell_type": "code",
   "execution_count": null,
   "id": "ae4f2a1d",
   "metadata": {},
   "outputs": [],
   "source": [
    "h3d.axes[1].index(np.log10(1700))"
   ]
  },
  {
   "cell_type": "code",
   "execution_count": null,
   "id": "88aa67e7",
   "metadata": {},
   "outputs": [],
   "source": [
    "10**np.linspace(np.log10(400), np.log10(4000), 21), 10**lgr_bins"
   ]
  },
  {
   "cell_type": "code",
   "execution_count": null,
   "id": "edc1f0f5",
   "metadata": {},
   "outputs": [],
   "source": [
    "(np.log10(1700)-np.log10(500))"
   ]
  },
  {
   "cell_type": "code",
   "execution_count": null,
   "id": "26ef4353",
   "metadata": {},
   "outputs": [],
   "source": [
    "10**np.linspace(np.log10(400), np.log10(4000), 28)"
   ]
  },
  {
   "cell_type": "code",
   "execution_count": null,
   "id": "15907f59",
   "metadata": {},
   "outputs": [],
   "source": [
    "10**lgr_bins[h3d.axes[1].index(np.log10(4000))]"
   ]
  },
  {
   "cell_type": "code",
   "execution_count": null,
   "id": "7356257f",
   "metadata": {},
   "outputs": [],
   "source": [
    "(25 * 7 + 25)/(25+1)/240"
   ]
  },
  {
   "cell_type": "code",
   "execution_count": null,
   "id": "13a9b09c",
   "metadata": {},
   "outputs": [],
   "source": [
    "10/240"
   ]
  },
  {
   "cell_type": "code",
   "execution_count": null,
   "id": "f8184ba1",
   "metadata": {},
   "outputs": [],
   "source": [
    "vals, X_bins, lgr_bins, lgE_bins = h3d.to_numpy(flow=False)\n",
    "\n",
    "idx = 12\n",
    "plt.plot((X_bins[:-1]+X_bins[1:])/2, vals[:, idx:, ].sum(axis=(1, 2)))\n",
    "h3d[:, idx:20:sum, sum].plot()\n",
    "plt.xlim([300, 900])"
   ]
  },
  {
   "cell_type": "code",
   "execution_count": null,
   "id": "cddd75d3",
   "metadata": {},
   "outputs": [],
   "source": [
    "h_rebinned = h3d[::4j, ::2j, ::1j]\n",
    "r_bins = h_rebinned.axes[1]\n",
    "f, axes = plt.subplots(3, 3, figsize=(20, 20))\n",
    "axes = axes.flatten()\n",
    "for i in range(r_bins.size):\n",
    "    try:\n",
    "        ax = axes[i]\n",
    "    except:\n",
    "        continue\n",
    "    ax.set_title(r_bins[i])\n",
    "    h_rebinned[:80, i, :12].plot(ax=ax)\n",
    "    ax.set_xlabel('X [g/cm2]')\n",
    "    ax.set_ylabel('lgE/eV')"
   ]
  }
 ],
 "metadata": {
  "hide_input": false,
  "kernelspec": {
   "display_name": "Python 3 (ipykernel)",
   "language": "python",
   "name": "python3"
  },
  "language_info": {
   "codemirror_mode": {
    "name": "ipython",
    "version": 3
   },
   "file_extension": ".py",
   "mimetype": "text/x-python",
   "name": "python",
   "nbconvert_exporter": "python",
   "pygments_lexer": "ipython3",
   "version": "3.9.7"
  },
  "latex_envs": {
   "LaTeX_envs_menu_present": true,
   "autoclose": false,
   "autocomplete": true,
   "bibliofile": "biblio.bib",
   "cite_by": "apalike",
   "current_citInitial": 1,
   "eqLabelWithNumbers": true,
   "eqNumInitial": 1,
   "hotkeys": {
    "equation": "Ctrl-E",
    "itemize": "Ctrl-I"
   },
   "labels_anchors": false,
   "latex_user_defs": false,
   "report_style_numbering": false,
   "user_envs_cfg": false
  },
  "toc": {
   "base_numbering": 1,
   "nav_menu": {},
   "number_sections": true,
   "sideBar": true,
   "skip_h1_title": false,
   "title_cell": "Table of Contents",
   "title_sidebar": "Contents",
   "toc_cell": false,
   "toc_position": {},
   "toc_section_display": true,
   "toc_window_display": false
  }
 },
 "nbformat": 4,
 "nbformat_minor": 5
}
