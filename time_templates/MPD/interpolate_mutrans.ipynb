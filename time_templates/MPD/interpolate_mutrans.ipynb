{
 "cells": [
  {
   "cell_type": "code",
   "execution_count": null,
   "id": "8b84e0b6",
   "metadata": {},
   "outputs": [],
   "source": [
    "import uproot\n",
    "import matplotlib.pyplot as plt\n",
    "import numpy as np"
   ]
  },
  {
   "cell_type": "code",
   "execution_count": null,
   "id": "c137dc84",
   "metadata": {},
   "outputs": [],
   "source": [
    "# fl = \"/home/mart/auger/data/time_templates/MuTrans/OUTPUT_MuTransHistos_Xmax0440_40deg_MS_on.root\"\n",
    "# fl = \"/home/mart/auger/MuTrans/OUTPUT_MuTransHistos_Xmax0500_50deg_MS_on.root\"\n",
    "\n",
    "def read_hist(fl):\n",
    "    rootfile = uproot.open(fl)\n",
    "    trpsi_hist = rootfile[rootfile.keys()[0]]\n",
    "    hist = trpsi_hist.to_hist()\n",
    "    h, tbins, lgr_bins, psi_bins = hist.to_numpy(flow=True)\n",
    "    h = h[1:-1, 1:-1, 1:]\n",
    "    t = (tbins[1:-2] + tbins[2:-1])/2\n",
    "    lgr = (lgr_bins[1:-2] + lgr_bins[2:-1])/2\n",
    "    psi_bins[-1] = 195\n",
    "    psi = np.deg2rad((psi_bins[1:-1] + psi_bins[2:])/2)\n",
    "#     h = h/h.max()\n",
    "#     print(t.shape, lgr.shape, psi.shape, h.shape)\n",
    "    #cannot interpolate in cospsi because then hist is not regular, or need to do complicated rebin. but lose magnetic field influence (which is turned off by default anyway)\n",
    "    return h, t, lgr, psi"
   ]
  },
  {
   "cell_type": "code",
   "execution_count": null,
   "id": "44de216c",
   "metadata": {},
   "outputs": [],
   "source": [
    "from time_templates.templates.fit_muon_model_mean_traces import fit_Xmumax_lam\n",
    "from time_templates.templates.muon_dsdt import MuondSdt"
   ]
  },
  {
   "cell_type": "code",
   "execution_count": null,
   "id": "11955ac8",
   "metadata": {},
   "outputs": [],
   "source": [
    "theta = 40 #deg\n",
    "Xmumax = 420\n",
    "h, t, lgr, psi = read_hist(f\"/home/mart/auger/data/MuTrans/OUTPUT_MuTransHistos_Xmax0{Xmumax}_{theta}deg_MS_on.root\")\n",
    "\n",
    "theta = np.deg2rad(theta)\n",
    "ir = 50\n",
    "ipsi = 10\n",
    "\n",
    "r = 10**lgr[ir]\n",
    "psi = psi[ipsi]\n",
    "print(r, psi)\n",
    "f, ax = plt.subplots(1, figsize=(10, 5))\n",
    "dt = t[1]-t[0]\n",
    "y = h[:, ir, ipsi]\n",
    "yerr = np.sqrt(y)\n",
    "# y /= norm\n",
    "# yerr /= norm\n",
    "\n",
    "muon_dsdt = MuondSdt(r, psi, theta)\n",
    "muon_dsdt.use_kinematic_delay = 0\n",
    "\n",
    "yerr[yerr <= 0] = 1\n",
    "cdf = np.cumsum(y)\n",
    "cdf /= cdf[-1]\n",
    "t0 = np.interp(0., cdf, t)\n",
    "t95 = np.interp(0.95, cdf, t)\n",
    "mask = (t > t0) & (t < t95)\n",
    "norm = y[mask].sum()*dt\n",
    "\n",
    "from time_templates.utilities.fitting import plot_fit_curve\n",
    "\n",
    "def func(t, Xmumax, lam):\n",
    "    muon_dsdt.set_Xmumax_lambda(Xmumax)\n",
    "    muon_dsdt.lam = lam\n",
    "#     muon_dsdt.X0 = 0\n",
    "    out = muon_dsdt.ds_dt(t, dndt=True)\n",
    "    return norm*out\n",
    "\n",
    "plot_fit_curve(t[mask], y[mask], yerr=yerr[mask], func=func, ax=ax, ebar_kws=dict(ls='', marker='.'), p0=[500, 40])\n",
    "ax.legend()\n",
    "# ax.set_xlim([0, 2000])"
   ]
  },
  {
   "cell_type": "code",
   "execution_count": null,
   "id": "f4a5d35d",
   "metadata": {},
   "outputs": [],
   "source": [
    "norm"
   ]
  },
  {
   "cell_type": "code",
   "execution_count": null,
   "id": "96c70c44",
   "metadata": {},
   "outputs": [],
   "source": [
    "y = h[:, ir, ipsi]\n",
    "n = 10\n",
    "plt.plot(t, y)\n",
    "kernel = np.ones(n)/n\n",
    "y_conv = np.convolve(y, kernel, mode='same')\n",
    "plt.plot(t, y_conv)\n",
    "plt.xlim([0, 1500])"
   ]
  },
  {
   "cell_type": "code",
   "execution_count": null,
   "id": "a5bb3582",
   "metadata": {},
   "outputs": [],
   "source": [
    "plt.plot(t, np.convolve(y, kernel, mode='full')[:len(t)])"
   ]
  },
  {
   "cell_type": "code",
   "execution_count": null,
   "id": "d9969bec",
   "metadata": {},
   "outputs": [],
   "source": [
    "from scipy.interpolate import RegularGridInterpolator"
   ]
  },
  {
   "cell_type": "code",
   "execution_count": null,
   "id": "2b0f2253",
   "metadata": {},
   "outputs": [],
   "source": [
    "interp = RegularGridInterpolator((np.log10(t), lgr, psi), np.log10(h+1), bounds_error=False, fill_value=0)"
   ]
  },
  {
   "cell_type": "code",
   "execution_count": null,
   "id": "a14c41d8",
   "metadata": {},
   "outputs": [],
   "source": [
    "ir = 50\n",
    "ipsi = 5\n",
    "f, ax = plt.subplots(1, figsize=(10, 5))\n",
    "\n",
    "ax.plot(t, h[:, ir, ipsi])\n",
    "ax.plot(t, 10**interp((np.log10(t), lgr[ir], psi[ipsi]))-1, ls='--')\n",
    "ax.set_xlim([0, 2000])"
   ]
  },
  {
   "cell_type": "code",
   "execution_count": null,
   "id": "352b0d7e",
   "metadata": {},
   "outputs": [],
   "source": [
    "for r in [500, 800, 1500]:\n",
    "    for psi in [-np.pi, 0, np.pi/2]:\n",
    "        func = lambda t: 10**interp((np.log10(t), np.log10(r), psi))-1\n",
    "        plt.plot(func(np.arange(1, 3000, 25)))"
   ]
  },
  {
   "cell_type": "code",
   "execution_count": null,
   "id": "e2a36b19",
   "metadata": {},
   "outputs": [],
   "source": [
    "n = 3\n",
    "for i in range(3):\n",
    "    plt.plot(h[:, 50, n+i])\n",
    "plt.xlim([0, 400])"
   ]
  },
  {
   "cell_type": "code",
   "execution_count": null,
   "id": "67479822",
   "metadata": {},
   "outputs": [],
   "source": [
    "10**lgr"
   ]
  },
  {
   "cell_type": "code",
   "execution_count": null,
   "id": "f468f858",
   "metadata": {},
   "outputs": [],
   "source": []
  },
  {
   "cell_type": "code",
   "execution_count": null,
   "id": "144eae1e",
   "metadata": {},
   "outputs": [],
   "source": []
  }
 ],
 "metadata": {
  "hide_input": false,
  "kernelspec": {
   "display_name": "Python 3 (ipykernel)",
   "language": "python",
   "name": "python3"
  },
  "language_info": {
   "codemirror_mode": {
    "name": "ipython",
    "version": 3
   },
   "file_extension": ".py",
   "mimetype": "text/x-python",
   "name": "python",
   "nbconvert_exporter": "python",
   "pygments_lexer": "ipython3",
   "version": "3.9.7"
  },
  "latex_envs": {
   "LaTeX_envs_menu_present": true,
   "autoclose": false,
   "autocomplete": true,
   "bibliofile": "biblio.bib",
   "cite_by": "apalike",
   "current_citInitial": 1,
   "eqLabelWithNumbers": true,
   "eqNumInitial": 1,
   "hotkeys": {
    "equation": "Ctrl-E",
    "itemize": "Ctrl-I"
   },
   "labels_anchors": false,
   "latex_user_defs": false,
   "report_style_numbering": false,
   "user_envs_cfg": false
  },
  "toc": {
   "base_numbering": 1,
   "nav_menu": {},
   "number_sections": true,
   "sideBar": true,
   "skip_h1_title": false,
   "title_cell": "Table of Contents",
   "title_sidebar": "Contents",
   "toc_cell": false,
   "toc_position": {},
   "toc_section_display": true,
   "toc_window_display": false
  }
 },
 "nbformat": 4,
 "nbformat_minor": 5
}
