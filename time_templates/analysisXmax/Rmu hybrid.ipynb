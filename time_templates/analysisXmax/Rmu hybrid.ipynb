{
 "cells": [
  {
   "cell_type": "code",
   "execution_count": null,
   "id": "6efc919a",
   "metadata": {},
   "outputs": [],
   "source": [
    "import pandas as pd\n",
    "from time_templates.utilities import plot as ttplt\n",
    "import numpy as np"
   ]
  },
  {
   "cell_type": "code",
   "execution_count": null,
   "id": "cbfc8a2a",
   "metadata": {},
   "outputs": [],
   "source": [
    "df = pd.read_csv(\"/home/mart/auger/data/time_templates/fitted/df_events_fitted_observer_icrc19_Golden_SdlgE19_theta53_selected_Rmu_fit.csv\")\n",
    "df = df.query('fit_success == True')"
   ]
  },
  {
   "cell_type": "code",
   "execution_count": null,
   "id": "de4e87a4",
   "metadata": {},
   "outputs": [],
   "source": [
    "list(df.keys())"
   ]
  },
  {
   "cell_type": "code",
   "execution_count": null,
   "id": "18b2e293",
   "metadata": {},
   "outputs": [],
   "source": [
    "ax, _ = ttplt.plot_hist(df['Rmu_fit'])\n",
    "\n",
    "ax.legend()\n",
    "ax.set_xlabel('$R^\\mu$')\n",
    "ax.set_ylabel('\\#')"
   ]
  },
  {
   "cell_type": "code",
   "execution_count": null,
   "id": "c26fe194",
   "metadata": {},
   "outputs": [],
   "source": [
    "ax, _ = ttplt.plot_profile_1d(df['FdlgE'], df['Rmu_fit'], bins=np.array([19, 19.1, 19.2, 19.3, 19.4, 19.5, 19.6, 21]), plot_n_entries=True)\n",
    "ax.set_xlabel('FdlgE')\n",
    "ax.set_ylabel('Rmu')"
   ]
  },
  {
   "cell_type": "code",
   "execution_count": null,
   "id": "90e35de0",
   "metadata": {},
   "outputs": [],
   "source": [
    "df['SdCosTheta'].max()"
   ]
  },
  {
   "cell_type": "code",
   "execution_count": null,
   "id": "03737ba4",
   "metadata": {},
   "outputs": [],
   "source": [
    "ax, _ = ttplt.plot_profile_1d(1/df['SdCosTheta'], df['Rmu_fit'], bins=1/np.sqrt(np.linspace(1, 0.36, 11)), plot_n_entries=True)\n",
    "ax.set_xlabel('sec theta')\n",
    "ax.set_ylabel('Rmu')"
   ]
  }
 ],
 "metadata": {
  "kernelspec": {
   "display_name": "Python 3 (ipykernel)",
   "language": "python",
   "name": "python3"
  },
  "language_info": {
   "codemirror_mode": {
    "name": "ipython",
    "version": 3
   },
   "file_extension": ".py",
   "mimetype": "text/x-python",
   "name": "python",
   "nbconvert_exporter": "python",
   "pygments_lexer": "ipython3",
   "version": "3.10.8"
  }
 },
 "nbformat": 4,
 "nbformat_minor": 5
}
